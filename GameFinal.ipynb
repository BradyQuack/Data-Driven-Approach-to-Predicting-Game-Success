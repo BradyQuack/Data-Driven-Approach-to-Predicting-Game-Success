{
 "cells": [
  {
   "cell_type": "markdown",
   "metadata": {},
   "source": [
    "# Data Driven Approach to Predicting Game Success\n",
    "\n",
    "## Introduction\n",
    "The video game industry is highly dynamic, with changing platform preferences, shifting genre popularity, and the influence of user and critic reviews. The goal of this project is to identify key patterns that determine whether a game succeeds or fails, enabling Ice to optimize advertising campaigns for 2017.\n",
    "\n",
    "Using historical data up to 2016, we will analyze trends in platform sales, genre performance, and the impact of reviews on sales. We will also test hypotheses related to platform and genre ratings. The findings will help in predicting high-potential games and ensuring effective marketing strategies.\n",
    "\n",
    "## Strategy\n",
    "\n",
    "### Data Exploration:\n",
    "(1) Examine the number of games released per year and identify relevant periods.\n",
    "\n",
    "(2) Analyze platform sales trends, highlighting leading, growing, and declining platforms.\n",
    "\n",
    "(3) Identify popular genres and their sales distributions.\n",
    "\n",
    "### Statistical Analysis & Visualizations:\n",
    "(1) Build sales distributions and box plots for different platforms.\n",
    "\n",
    "(2) Study the correlation between user/professional reviews and sales.\n",
    "\n",
    "(3) Compare game sales across multiple platforms.\n",
    "\n",
    "### Hypothesis Testing:\n",
    "(1) Compare average user ratings between Xbox One and PC.\n",
    "\n",
    "(2) Test if user ratings for Action and Sports genres differ.\n",
    "\n",
    "### Conclusion & Recommendations:\n",
    "(1) Summarize key findings.\n",
    "\n",
    "(2) Recommend platforms and genres for marketing focus.\n",
    "\n",
    "(3) Suggest data-driven strategies for advertising campaigns in 2017."
   ]
  },
  {
   "cell_type": "markdown",
   "metadata": {},
   "source": [
    "## Load Data"
   ]
  },
  {
   "cell_type": "code",
   "execution_count": 1,
   "metadata": {},
   "outputs": [],
   "source": [
    "# Imports\n",
    "import pandas as pd\n",
    "import numpy as np\n",
    "from matplotlib import pyplot as plt\n",
    "import scipy.stats as st"
   ]
  },
  {
   "cell_type": "code",
   "execution_count": 2,
   "metadata": {},
   "outputs": [
    {
     "name": "stdout",
     "output_type": "stream",
     "text": [
      "<class 'pandas.core.frame.DataFrame'>\n",
      "RangeIndex: 16715 entries, 0 to 16714\n",
      "Data columns (total 11 columns):\n",
      " #   Column           Non-Null Count  Dtype  \n",
      "---  ------           --------------  -----  \n",
      " 0   Name             16713 non-null  object \n",
      " 1   Platform         16715 non-null  object \n",
      " 2   Year_of_Release  16446 non-null  float64\n",
      " 3   Genre            16713 non-null  object \n",
      " 4   NA_sales         16715 non-null  float64\n",
      " 5   EU_sales         16715 non-null  float64\n",
      " 6   JP_sales         16715 non-null  float64\n",
      " 7   Other_sales      16715 non-null  float64\n",
      " 8   Critic_Score     8137 non-null   float64\n",
      " 9   User_Score       10014 non-null  object \n",
      " 10  Rating           9949 non-null   object \n",
      "dtypes: float64(6), object(5)\n",
      "memory usage: 1.4+ MB\n"
     ]
    }
   ],
   "source": [
    "# Dataset\n",
    "data = pd.read_csv('/datasets/games.csv')\n",
    "data.info()"
   ]
  },
  {
   "cell_type": "code",
   "execution_count": 3,
   "metadata": {},
   "outputs": [
    {
     "data": {
      "text/html": [
       "<div>\n",
       "<style scoped>\n",
       "    .dataframe tbody tr th:only-of-type {\n",
       "        vertical-align: middle;\n",
       "    }\n",
       "\n",
       "    .dataframe tbody tr th {\n",
       "        vertical-align: top;\n",
       "    }\n",
       "\n",
       "    .dataframe thead th {\n",
       "        text-align: right;\n",
       "    }\n",
       "</style>\n",
       "<table border=\"1\" class=\"dataframe\">\n",
       "  <thead>\n",
       "    <tr style=\"text-align: right;\">\n",
       "      <th></th>\n",
       "      <th>Name</th>\n",
       "      <th>Platform</th>\n",
       "      <th>Year_of_Release</th>\n",
       "      <th>Genre</th>\n",
       "      <th>NA_sales</th>\n",
       "      <th>EU_sales</th>\n",
       "      <th>JP_sales</th>\n",
       "      <th>Other_sales</th>\n",
       "      <th>Critic_Score</th>\n",
       "      <th>User_Score</th>\n",
       "      <th>Rating</th>\n",
       "    </tr>\n",
       "  </thead>\n",
       "  <tbody>\n",
       "    <tr>\n",
       "      <th>5526</th>\n",
       "      <td>NBA Live 96</td>\n",
       "      <td>PS</td>\n",
       "      <td>1996.0</td>\n",
       "      <td>Sports</td>\n",
       "      <td>0.16</td>\n",
       "      <td>0.11</td>\n",
       "      <td>0.04</td>\n",
       "      <td>0.02</td>\n",
       "      <td>NaN</td>\n",
       "      <td>NaN</td>\n",
       "      <td>NaN</td>\n",
       "    </tr>\n",
       "  </tbody>\n",
       "</table>\n",
       "</div>"
      ],
      "text/plain": [
       "             Name Platform  Year_of_Release   Genre  NA_sales  EU_sales  \\\n",
       "5526  NBA Live 96       PS           1996.0  Sports      0.16      0.11   \n",
       "\n",
       "      JP_sales  Other_sales  Critic_Score User_Score Rating  \n",
       "5526      0.04         0.02           NaN        NaN    NaN  "
      ]
     },
     "execution_count": 3,
     "metadata": {},
     "output_type": "execute_result"
    }
   ],
   "source": [
    "# Sample\n",
    "data.sample()"
   ]
  },
  {
   "cell_type": "code",
   "execution_count": 4,
   "metadata": {
    "scrolled": true
   },
   "outputs": [
    {
     "data": {
      "text/plain": [
       "0"
      ]
     },
     "execution_count": 4,
     "metadata": {},
     "output_type": "execute_result"
    }
   ],
   "source": [
    "# Check for duplicates\n",
    "duplicates = data.duplicated().sum()\n",
    "duplicates"
   ]
  },
  {
   "cell_type": "markdown",
   "metadata": {},
   "source": [
    "## Prepare Data"
   ]
  },
  {
   "cell_type": "code",
   "execution_count": 5,
   "metadata": {},
   "outputs": [
    {
     "name": "stdout",
     "output_type": "stream",
     "text": [
      "<class 'pandas.core.frame.DataFrame'>\n",
      "Int64Index: 16444 entries, 0 to 16714\n",
      "Data columns (total 11 columns):\n",
      " #   Column           Non-Null Count  Dtype  \n",
      "---  ------           --------------  -----  \n",
      " 0   Name             16444 non-null  object \n",
      " 1   Platform         16444 non-null  object \n",
      " 2   Year_of_Release  16444 non-null  int64  \n",
      " 3   Genre            16444 non-null  object \n",
      " 4   NA_sales         16444 non-null  float64\n",
      " 5   EU_sales         16444 non-null  float64\n",
      " 6   JP_sales         16444 non-null  float64\n",
      " 7   Other_sales      16444 non-null  float64\n",
      " 8   Critic_Score     7983 non-null   float64\n",
      " 9   User_Score       7463 non-null   float64\n",
      " 10  Rating           9768 non-null   object \n",
      "dtypes: float64(6), int64(1), object(4)\n",
      "memory usage: 1.5+ MB\n"
     ]
    }
   ],
   "source": [
    "# Missing Values\n",
    "# Drop name and genre rows with missing values\n",
    "data = data.dropna(subset=['Name', 'Genre'])\n",
    "\n",
    "# Drop year of release rows with missing values. Convert to type int\n",
    "data = data.dropna(subset=['Year_of_Release'])\n",
    "data['Year_of_Release'] = data['Year_of_Release'].astype(int)\n",
    "\n",
    "# Convert user score to float changing tbd to nan\n",
    "data['User_Score'] = data['User_Score'].replace('tbd', np.nan).astype(float)\n",
    "\n",
    "data.info()"
   ]
  },
  {
   "cell_type": "code",
   "execution_count": 6,
   "metadata": {},
   "outputs": [
    {
     "name": "stdout",
     "output_type": "stream",
     "text": [
      "<class 'pandas.core.frame.DataFrame'>\n",
      "Int64Index: 16444 entries, 0 to 16714\n",
      "Data columns (total 11 columns):\n",
      " #   Column           Non-Null Count  Dtype  \n",
      "---  ------           --------------  -----  \n",
      " 0   Name             16444 non-null  object \n",
      " 1   Platform         16444 non-null  object \n",
      " 2   Year_of_Release  16444 non-null  int64  \n",
      " 3   Genre            16444 non-null  object \n",
      " 4   NA_sales         16444 non-null  float64\n",
      " 5   EU_sales         16444 non-null  float64\n",
      " 6   JP_sales         16444 non-null  float64\n",
      " 7   Other_sales      16444 non-null  float64\n",
      " 8   Critic_Score     7983 non-null   float64\n",
      " 9   User_Score       7463 non-null   float64\n",
      " 10  Rating           16444 non-null  object \n",
      "dtypes: float64(6), int64(1), object(4)\n",
      "memory usage: 1.5+ MB\n"
     ]
    }
   ],
   "source": [
    "# Fill missing values\n",
    "data['Rating'].fillna('Unknown', inplace=True)\n",
    "data.info()"
   ]
  },
  {
   "cell_type": "code",
   "execution_count": 7,
   "metadata": {},
   "outputs": [
    {
     "data": {
      "text/html": [
       "<div>\n",
       "<style scoped>\n",
       "    .dataframe tbody tr th:only-of-type {\n",
       "        vertical-align: middle;\n",
       "    }\n",
       "\n",
       "    .dataframe tbody tr th {\n",
       "        vertical-align: top;\n",
       "    }\n",
       "\n",
       "    .dataframe thead th {\n",
       "        text-align: right;\n",
       "    }\n",
       "</style>\n",
       "<table border=\"1\" class=\"dataframe\">\n",
       "  <thead>\n",
       "    <tr style=\"text-align: right;\">\n",
       "      <th></th>\n",
       "      <th>Name</th>\n",
       "      <th>Platform</th>\n",
       "      <th>Year_of_Release</th>\n",
       "      <th>Genre</th>\n",
       "      <th>NA_sales</th>\n",
       "      <th>EU_sales</th>\n",
       "      <th>JP_sales</th>\n",
       "      <th>Other_sales</th>\n",
       "      <th>Critic_Score</th>\n",
       "      <th>User_Score</th>\n",
       "      <th>Rating</th>\n",
       "    </tr>\n",
       "  </thead>\n",
       "  <tbody>\n",
       "    <tr>\n",
       "      <th>937</th>\n",
       "      <td>NBA Live 2002</td>\n",
       "      <td>PS2</td>\n",
       "      <td>2001</td>\n",
       "      <td>Sports</td>\n",
       "      <td>0.91</td>\n",
       "      <td>0.71</td>\n",
       "      <td>0.00</td>\n",
       "      <td>0.24</td>\n",
       "      <td>70.0</td>\n",
       "      <td>7.4</td>\n",
       "      <td>E</td>\n",
       "    </tr>\n",
       "    <tr>\n",
       "      <th>146</th>\n",
       "      <td>Metal Gear Solid</td>\n",
       "      <td>PS</td>\n",
       "      <td>1998</td>\n",
       "      <td>Action</td>\n",
       "      <td>3.18</td>\n",
       "      <td>1.83</td>\n",
       "      <td>0.78</td>\n",
       "      <td>0.24</td>\n",
       "      <td>94.0</td>\n",
       "      <td>9.4</td>\n",
       "      <td>M</td>\n",
       "    </tr>\n",
       "    <tr>\n",
       "      <th>2470</th>\n",
       "      <td>Sniper Elite V2</td>\n",
       "      <td>X360</td>\n",
       "      <td>2012</td>\n",
       "      <td>Shooter</td>\n",
       "      <td>0.46</td>\n",
       "      <td>0.28</td>\n",
       "      <td>0.02</td>\n",
       "      <td>0.07</td>\n",
       "      <td>67.0</td>\n",
       "      <td>6.8</td>\n",
       "      <td>M</td>\n",
       "    </tr>\n",
       "    <tr>\n",
       "      <th>6964</th>\n",
       "      <td>Pro Yakyuu Team o Tsukurou!</td>\n",
       "      <td>DC</td>\n",
       "      <td>1999</td>\n",
       "      <td>Sports</td>\n",
       "      <td>0.00</td>\n",
       "      <td>0.00</td>\n",
       "      <td>0.23</td>\n",
       "      <td>0.00</td>\n",
       "      <td>NaN</td>\n",
       "      <td>NaN</td>\n",
       "      <td>Unknown</td>\n",
       "    </tr>\n",
       "    <tr>\n",
       "      <th>11300</th>\n",
       "      <td>Pachitte Chonmage Tatsujin 13: Pachinko Hissat...</td>\n",
       "      <td>PS2</td>\n",
       "      <td>2007</td>\n",
       "      <td>Misc</td>\n",
       "      <td>0.00</td>\n",
       "      <td>0.00</td>\n",
       "      <td>0.08</td>\n",
       "      <td>0.00</td>\n",
       "      <td>NaN</td>\n",
       "      <td>NaN</td>\n",
       "      <td>Unknown</td>\n",
       "    </tr>\n",
       "  </tbody>\n",
       "</table>\n",
       "</div>"
      ],
      "text/plain": [
       "                                                    Name Platform  \\\n",
       "937                                        NBA Live 2002      PS2   \n",
       "146                                     Metal Gear Solid       PS   \n",
       "2470                                     Sniper Elite V2     X360   \n",
       "6964                         Pro Yakyuu Team o Tsukurou!       DC   \n",
       "11300  Pachitte Chonmage Tatsujin 13: Pachinko Hissat...      PS2   \n",
       "\n",
       "       Year_of_Release    Genre  NA_sales  EU_sales  JP_sales  Other_sales  \\\n",
       "937               2001   Sports      0.91      0.71      0.00         0.24   \n",
       "146               1998   Action      3.18      1.83      0.78         0.24   \n",
       "2470              2012  Shooter      0.46      0.28      0.02         0.07   \n",
       "6964              1999   Sports      0.00      0.00      0.23         0.00   \n",
       "11300             2007     Misc      0.00      0.00      0.08         0.00   \n",
       "\n",
       "       Critic_Score  User_Score   Rating  \n",
       "937            70.0         7.4        E  \n",
       "146            94.0         9.4        M  \n",
       "2470           67.0         6.8        M  \n",
       "6964            NaN         NaN  Unknown  \n",
       "11300           NaN         NaN  Unknown  "
      ]
     },
     "execution_count": 7,
     "metadata": {},
     "output_type": "execute_result"
    }
   ],
   "source": [
    "data.sample(5)"
   ]
  },
  {
   "cell_type": "markdown",
   "metadata": {},
   "source": [
    "### Summary \n",
    "(1) Removed duplicate rows\n",
    "\n",
    "(2) Handled missing values (Critic_Score, User_Score, Rating)\n",
    "\n",
    "(3) Converted Year_of_Release to integer\n",
    "\n",
    "(4) Ensured all columns are properly formatted"
   ]
  },
  {
   "cell_type": "markdown",
   "metadata": {},
   "source": [
    "## Exploratory Data Analysis "
   ]
  },
  {
   "cell_type": "markdown",
   "metadata": {},
   "source": [
    "### Game Releases Per Year"
   ]
  },
  {
   "cell_type": "code",
   "execution_count": 8,
   "metadata": {},
   "outputs": [
    {
     "data": {
      "text/plain": [
       "1980       9\n",
       "1981      46\n",
       "1982      36\n",
       "1983      17\n",
       "1984      14\n",
       "1985      14\n",
       "1986      21\n",
       "1987      16\n",
       "1988      15\n",
       "1989      17\n",
       "1990      16\n",
       "1991      41\n",
       "1992      43\n",
       "1993      60\n",
       "1994     121\n",
       "1995     219\n",
       "1996     263\n",
       "1997     289\n",
       "1998     379\n",
       "1999     338\n",
       "2000     350\n",
       "2001     482\n",
       "2002     829\n",
       "2003     775\n",
       "2004     762\n",
       "2005     939\n",
       "2006    1006\n",
       "2007    1197\n",
       "2008    1427\n",
       "2009    1426\n",
       "2010    1255\n",
       "2011    1136\n",
       "2012     653\n",
       "2013     544\n",
       "2014     581\n",
       "2015     606\n",
       "2016     502\n",
       "Name: Year_of_Release, dtype: int64"
      ]
     },
     "execution_count": 8,
     "metadata": {},
     "output_type": "execute_result"
    }
   ],
   "source": [
    "# Game Releases per year\n",
    "games_year = data['Year_of_Release'].value_counts().sort_index()\n",
    "games_year"
   ]
  },
  {
   "cell_type": "code",
   "execution_count": 9,
   "metadata": {},
   "outputs": [
    {
     "data": {
      "image/png": "[encoded data removed]",
      "text/plain": [
       "<Figure size 640x480 with 1 Axes>"
      ]
     },
     "metadata": {},
     "output_type": "display_data"
    }
   ],
   "source": [
    "games_year.plot(\n",
    "    kind='bar',\n",
    "    title='Number of Games Released per Year',\n",
    "    xlabel='Year',\n",
    "    ylabel='Number of games'\n",
    ")\n",
    "plt.xticks(rotation=90, ha='center')\n",
    "plt.show()"
   ]
  },
  {
   "cell_type": "markdown",
   "metadata": {},
   "source": [
    "### Summary:\n",
    "The data shows a significant increase in game releases from the early 2000s, peaking in 2008 and 2009 with over 1,400 titles. This surge can be attributed to the rise of popular gaming platforms and digital distribution. Afterward, the number of releases declined slightly, with 502 titles in 2016, possibly due to market saturation and the shift toward mobile gaming. This trend offers valuable insights for planning strategic campaigns, especially during high-release years like 2008–2012."
   ]
  },
  {
   "cell_type": "markdown",
   "metadata": {},
   "source": [
    "### Platform Sales "
   ]
  },
  {
   "cell_type": "code",
   "execution_count": 10,
   "metadata": {},
   "outputs": [
    {
     "data": {
      "text/html": [
       "<div>\n",
       "<style scoped>\n",
       "    .dataframe tbody tr th:only-of-type {\n",
       "        vertical-align: middle;\n",
       "    }\n",
       "\n",
       "    .dataframe tbody tr th {\n",
       "        vertical-align: top;\n",
       "    }\n",
       "\n",
       "    .dataframe thead th {\n",
       "        text-align: right;\n",
       "    }\n",
       "</style>\n",
       "<table border=\"1\" class=\"dataframe\">\n",
       "  <thead>\n",
       "    <tr style=\"text-align: right;\">\n",
       "      <th></th>\n",
       "      <th>Name</th>\n",
       "      <th>Platform</th>\n",
       "      <th>Year_of_Release</th>\n",
       "      <th>Genre</th>\n",
       "      <th>NA_sales</th>\n",
       "      <th>EU_sales</th>\n",
       "      <th>JP_sales</th>\n",
       "      <th>Other_sales</th>\n",
       "      <th>Critic_Score</th>\n",
       "      <th>User_Score</th>\n",
       "      <th>Rating</th>\n",
       "      <th>Total_sales</th>\n",
       "    </tr>\n",
       "  </thead>\n",
       "  <tbody>\n",
       "    <tr>\n",
       "      <th>3725</th>\n",
       "      <td>Dragon Ball Z: Ultimate Tenkaichi</td>\n",
       "      <td>X360</td>\n",
       "      <td>2011</td>\n",
       "      <td>Fighting</td>\n",
       "      <td>0.39</td>\n",
       "      <td>0.1</td>\n",
       "      <td>0.01</td>\n",
       "      <td>0.04</td>\n",
       "      <td>55.0</td>\n",
       "      <td>5.8</td>\n",
       "      <td>T</td>\n",
       "      <td>0.54</td>\n",
       "    </tr>\n",
       "  </tbody>\n",
       "</table>\n",
       "</div>"
      ],
      "text/plain": [
       "                                   Name Platform  Year_of_Release     Genre  \\\n",
       "3725  Dragon Ball Z: Ultimate Tenkaichi     X360             2011  Fighting   \n",
       "\n",
       "      NA_sales  EU_sales  JP_sales  Other_sales  Critic_Score  User_Score  \\\n",
       "3725      0.39       0.1      0.01         0.04          55.0         5.8   \n",
       "\n",
       "     Rating  Total_sales  \n",
       "3725      T         0.54  "
      ]
     },
     "execution_count": 10,
     "metadata": {},
     "output_type": "execute_result"
    }
   ],
   "source": [
    "# Calculate total sales\n",
    "data['Total_sales'] = data['NA_sales'] + data['EU_sales'] + data['JP_sales'] + data['Other_sales']\n",
    "data.sample()"
   ]
  },
  {
   "cell_type": "code",
   "execution_count": 11,
   "metadata": {},
   "outputs": [
    {
     "data": {
      "text/plain": [
       "Platform\n",
       "PS2     1233.56\n",
       "X360     961.24\n",
       "PS3      931.34\n",
       "Wii      891.18\n",
       "DS       802.78\n",
       "PS       727.58\n",
       "PS4      314.14\n",
       "GBA      312.88\n",
       "PSP      289.53\n",
       "3DS      257.81\n",
       "PC       255.76\n",
       "GB       254.43\n",
       "XB       251.57\n",
       "NES      251.05\n",
       "N64      218.01\n",
       "SNES     200.04\n",
       "GC       196.73\n",
       "XOne     159.32\n",
       "2600      86.48\n",
       "WiiU      82.19\n",
       "PSV       53.81\n",
       "SAT       33.59\n",
       "GEN       28.35\n",
       "DC        15.95\n",
       "SCD        1.86\n",
       "NG         1.44\n",
       "WS         1.42\n",
       "TG16       0.16\n",
       "3DO        0.10\n",
       "GG         0.04\n",
       "PCFX       0.03\n",
       "Name: Total_sales, dtype: float64"
      ]
     },
     "execution_count": 11,
     "metadata": {},
     "output_type": "execute_result"
    }
   ],
   "source": [
    "# Group by platform\n",
    "platform_sales = data.groupby('Platform')['Total_sales'].sum().sort_values(ascending=False)\n",
    "platform_sales"
   ]
  },
  {
   "cell_type": "code",
   "execution_count": 12,
   "metadata": {},
   "outputs": [
    {
     "data": {
      "image/png": "[encoded data removed]",
      "text/plain": [
       "<Figure size 640x480 with 1 Axes>"
      ]
     },
     "metadata": {},
     "output_type": "display_data"
    }
   ],
   "source": [
    "# Plot\n",
    "platform_sales.plot(\n",
    "    kind='bar',\n",
    "    title='Total Sales by Platform',\n",
    "    xlabel='Platform',\n",
    "    ylabel='Total Sales (Millions)'\n",
    ")\n",
    "plt.show()"
   ]
  },
  {
   "cell_type": "markdown",
   "metadata": {},
   "source": [
    "### Summary:\n",
    "The platform sales analysis reveals that the PS2 was the dominant platform, generating over 1.23 billion units in total sales, followed by the Xbox 360 (961.24 million) and PS3 (931.34 million). These platforms contributed significantly to the industry's growth, likely driven by their long lifespans and strong game libraries. Other platforms such as the Wii and DS also performed well, reflecting the diverse market appeal of both home consoles and handheld devices. However, newer platforms like the PS4 and Xbox One have shown relatively lower sales, suggesting that while still successful, they haven't yet reached the sales heights of their predecessors. Additionally, older platforms like the 2600 and WiiU have almost no significant sales in recent years. These insights highlight the importance of considering legacy platforms for retro-focused campaigns, while focusing advertising efforts on current leading platforms to maximize reach and engagement."
   ]
  },
  {
   "cell_type": "code",
   "execution_count": 13,
   "metadata": {},
   "outputs": [
    {
     "data": {
      "text/plain": [
       "Platform\n",
       "PS2     1233.56\n",
       "X360     961.24\n",
       "PS3      931.34\n",
       "Wii      891.18\n",
       "DS       802.78\n",
       "Name: Total_sales, dtype: float64"
      ]
     },
     "execution_count": 13,
     "metadata": {},
     "output_type": "execute_result"
    }
   ],
   "source": [
    "# Top platforms\n",
    "top_platforms = platform_sales.head(5)\n",
    "top_platforms"
   ]
  },
  {
   "cell_type": "code",
   "execution_count": 14,
   "metadata": {},
   "outputs": [
    {
     "data": {
      "text/html": [
       "<div>\n",
       "<style scoped>\n",
       "    .dataframe tbody tr th:only-of-type {\n",
       "        vertical-align: middle;\n",
       "    }\n",
       "\n",
       "    .dataframe tbody tr th {\n",
       "        vertical-align: top;\n",
       "    }\n",
       "\n",
       "    .dataframe thead th {\n",
       "        text-align: right;\n",
       "    }\n",
       "</style>\n",
       "<table border=\"1\" class=\"dataframe\">\n",
       "  <thead>\n",
       "    <tr style=\"text-align: right;\">\n",
       "      <th>Platform</th>\n",
       "      <th>DS</th>\n",
       "      <th>PS2</th>\n",
       "      <th>PS3</th>\n",
       "      <th>Wii</th>\n",
       "      <th>X360</th>\n",
       "    </tr>\n",
       "    <tr>\n",
       "      <th>Year_of_Release</th>\n",
       "      <th></th>\n",
       "      <th></th>\n",
       "      <th></th>\n",
       "      <th></th>\n",
       "      <th></th>\n",
       "    </tr>\n",
       "  </thead>\n",
       "  <tbody>\n",
       "    <tr>\n",
       "      <th>1985</th>\n",
       "      <td>0.02</td>\n",
       "      <td>NaN</td>\n",
       "      <td>NaN</td>\n",
       "      <td>NaN</td>\n",
       "      <td>NaN</td>\n",
       "    </tr>\n",
       "    <tr>\n",
       "      <th>2000</th>\n",
       "      <td>NaN</td>\n",
       "      <td>39.17</td>\n",
       "      <td>NaN</td>\n",
       "      <td>NaN</td>\n",
       "      <td>NaN</td>\n",
       "    </tr>\n",
       "    <tr>\n",
       "      <th>2001</th>\n",
       "      <td>NaN</td>\n",
       "      <td>166.43</td>\n",
       "      <td>NaN</td>\n",
       "      <td>NaN</td>\n",
       "      <td>NaN</td>\n",
       "    </tr>\n",
       "    <tr>\n",
       "      <th>2002</th>\n",
       "      <td>NaN</td>\n",
       "      <td>205.38</td>\n",
       "      <td>NaN</td>\n",
       "      <td>NaN</td>\n",
       "      <td>NaN</td>\n",
       "    </tr>\n",
       "    <tr>\n",
       "      <th>2003</th>\n",
       "      <td>NaN</td>\n",
       "      <td>184.31</td>\n",
       "      <td>NaN</td>\n",
       "      <td>NaN</td>\n",
       "      <td>NaN</td>\n",
       "    </tr>\n",
       "    <tr>\n",
       "      <th>2004</th>\n",
       "      <td>17.27</td>\n",
       "      <td>211.81</td>\n",
       "      <td>NaN</td>\n",
       "      <td>NaN</td>\n",
       "      <td>NaN</td>\n",
       "    </tr>\n",
       "    <tr>\n",
       "      <th>2005</th>\n",
       "      <td>130.14</td>\n",
       "      <td>160.66</td>\n",
       "      <td>NaN</td>\n",
       "      <td>NaN</td>\n",
       "      <td>8.25</td>\n",
       "    </tr>\n",
       "    <tr>\n",
       "      <th>2006</th>\n",
       "      <td>119.81</td>\n",
       "      <td>103.42</td>\n",
       "      <td>20.96</td>\n",
       "      <td>137.15</td>\n",
       "      <td>51.62</td>\n",
       "    </tr>\n",
       "    <tr>\n",
       "      <th>2007</th>\n",
       "      <td>146.94</td>\n",
       "      <td>75.99</td>\n",
       "      <td>73.19</td>\n",
       "      <td>152.77</td>\n",
       "      <td>95.41</td>\n",
       "    </tr>\n",
       "    <tr>\n",
       "      <th>2008</th>\n",
       "      <td>145.31</td>\n",
       "      <td>53.90</td>\n",
       "      <td>118.52</td>\n",
       "      <td>171.32</td>\n",
       "      <td>135.26</td>\n",
       "    </tr>\n",
       "    <tr>\n",
       "      <th>2009</th>\n",
       "      <td>119.54</td>\n",
       "      <td>26.40</td>\n",
       "      <td>130.93</td>\n",
       "      <td>206.97</td>\n",
       "      <td>120.29</td>\n",
       "    </tr>\n",
       "    <tr>\n",
       "      <th>2010</th>\n",
       "      <td>85.02</td>\n",
       "      <td>5.64</td>\n",
       "      <td>142.17</td>\n",
       "      <td>127.95</td>\n",
       "      <td>170.03</td>\n",
       "    </tr>\n",
       "    <tr>\n",
       "      <th>2011</th>\n",
       "      <td>26.18</td>\n",
       "      <td>0.45</td>\n",
       "      <td>156.78</td>\n",
       "      <td>59.65</td>\n",
       "      <td>143.84</td>\n",
       "    </tr>\n",
       "    <tr>\n",
       "      <th>2012</th>\n",
       "      <td>11.01</td>\n",
       "      <td>NaN</td>\n",
       "      <td>107.36</td>\n",
       "      <td>21.71</td>\n",
       "      <td>99.74</td>\n",
       "    </tr>\n",
       "    <tr>\n",
       "      <th>2013</th>\n",
       "      <td>1.54</td>\n",
       "      <td>NaN</td>\n",
       "      <td>113.25</td>\n",
       "      <td>8.59</td>\n",
       "      <td>88.58</td>\n",
       "    </tr>\n",
       "    <tr>\n",
       "      <th>2014</th>\n",
       "      <td>NaN</td>\n",
       "      <td>NaN</td>\n",
       "      <td>47.76</td>\n",
       "      <td>3.75</td>\n",
       "      <td>34.74</td>\n",
       "    </tr>\n",
       "    <tr>\n",
       "      <th>2015</th>\n",
       "      <td>NaN</td>\n",
       "      <td>NaN</td>\n",
       "      <td>16.82</td>\n",
       "      <td>1.14</td>\n",
       "      <td>11.96</td>\n",
       "    </tr>\n",
       "    <tr>\n",
       "      <th>2016</th>\n",
       "      <td>NaN</td>\n",
       "      <td>NaN</td>\n",
       "      <td>3.60</td>\n",
       "      <td>0.18</td>\n",
       "      <td>1.52</td>\n",
       "    </tr>\n",
       "  </tbody>\n",
       "</table>\n",
       "</div>"
      ],
      "text/plain": [
       "Platform             DS     PS2     PS3     Wii    X360\n",
       "Year_of_Release                                        \n",
       "1985               0.02     NaN     NaN     NaN     NaN\n",
       "2000                NaN   39.17     NaN     NaN     NaN\n",
       "2001                NaN  166.43     NaN     NaN     NaN\n",
       "2002                NaN  205.38     NaN     NaN     NaN\n",
       "2003                NaN  184.31     NaN     NaN     NaN\n",
       "2004              17.27  211.81     NaN     NaN     NaN\n",
       "2005             130.14  160.66     NaN     NaN    8.25\n",
       "2006             119.81  103.42   20.96  137.15   51.62\n",
       "2007             146.94   75.99   73.19  152.77   95.41\n",
       "2008             145.31   53.90  118.52  171.32  135.26\n",
       "2009             119.54   26.40  130.93  206.97  120.29\n",
       "2010              85.02    5.64  142.17  127.95  170.03\n",
       "2011              26.18    0.45  156.78   59.65  143.84\n",
       "2012              11.01     NaN  107.36   21.71   99.74\n",
       "2013               1.54     NaN  113.25    8.59   88.58\n",
       "2014                NaN     NaN   47.76    3.75   34.74\n",
       "2015                NaN     NaN   16.82    1.14   11.96\n",
       "2016                NaN     NaN    3.60    0.18    1.52"
      ]
     },
     "execution_count": 14,
     "metadata": {},
     "output_type": "execute_result"
    }
   ],
   "source": [
    "# Grap data of top platforms\n",
    "top_platforms_data = data[data['Platform'].isin(top_platforms.index)]\n",
    "\n",
    "# Group by total sales\n",
    "platform_year_sales = top_platforms_data.groupby(['Year_of_Release', 'Platform'])['Total_sales'].sum().unstack()\n",
    "platform_year_sales"
   ]
  },
  {
   "cell_type": "code",
   "execution_count": 15,
   "metadata": {},
   "outputs": [
    {
     "data": {
      "image/png": "[encoded data removed]",
      "text/plain": [
       "<Figure size 640x480 with 1 Axes>"
      ]
     },
     "metadata": {},
     "output_type": "display_data"
    }
   ],
   "source": [
    "platform_year_sales.plot(\n",
    "    kind='line',\n",
    "    marker='o',\n",
    "    title='Sales Distribution by Platform by Years',\n",
    "    xlabel='Year of Release',\n",
    "    ylabel='Total Sales (Millions)'\n",
    ")\n",
    "plt.show()"
   ]
  },
  {
   "cell_type": "markdown",
   "metadata": {},
   "source": [
    "### Summary:\n",
    "The sales data of the top platforms reveals key trends in platform popularity and longevity. Platforms like PS2 and Wii were dominant in the mid-2000s, with PS2 peaking in 2004 and Wii reaching its highest sales in 2008. Meanwhile, Xbox 360 and PS3 saw consistent sales growth, with notable peaks around 2007 to 2011. By 2013, many older platforms such as the PS2 and Wii had significantly declined, with sales approaching zero. Newer platforms like X360 experienced a slow decline post-2011, while the PS3 saw a steady fall after 2012. These patterns suggest a lifecycle where platforms typically maintain peak sales for about 5 to 6 years before fading, though the transition to new platforms takes several years to fully take hold. For businesses, these insights underscore the importance of targeting platforms in their peak years while preparing for a gradual decline in older platforms. Additionally, investing in emerging platforms could offer substantial returns during their initial growth phase.\n",
    "\n",
    "Best timeframe for data is 2013-2016. "
   ]
  },
  {
   "cell_type": "markdown",
   "metadata": {},
   "source": [
    "### Faded Platforms"
   ]
  },
  {
   "cell_type": "code",
   "execution_count": 16,
   "metadata": {},
   "outputs": [
    {
     "data": {
      "text/plain": [
       "Platform\n",
       "DS        1.54\n",
       "PS2       0.00\n",
       "PS3     177.83\n",
       "Wii      13.48\n",
       "X360    135.28\n",
       "dtype: float64"
      ]
     },
     "execution_count": 16,
     "metadata": {},
     "output_type": "execute_result"
    }
   ],
   "source": [
    "# Identify platforms with faded sales in recent years\n",
    "faded_sales_platforms = platform_year_sales.loc[range(2013,2016)].sum(axis=0)\n",
    "faded_sales_platforms"
   ]
  },
  {
   "cell_type": "code",
   "execution_count": 17,
   "metadata": {
    "scrolled": true
   },
   "outputs": [
    {
     "data": {
      "text/plain": [
       "Platform\n",
       "DS     1.54\n",
       "PS2    0.00\n",
       "dtype: float64"
      ]
     },
     "execution_count": 17,
     "metadata": {},
     "output_type": "execute_result"
    }
   ],
   "source": [
    "# Faded platforms\n",
    "faded_platforms = faded_sales_platforms[faded_sales_platforms < 2]\n",
    "faded_platforms"
   ]
  },
  {
   "cell_type": "markdown",
   "metadata": {},
   "source": [
    "### Platform Lifespan"
   ]
  },
  {
   "cell_type": "code",
   "execution_count": 18,
   "metadata": {},
   "outputs": [
    {
     "data": {
      "text/html": [
       "<div>\n",
       "<style scoped>\n",
       "    .dataframe tbody tr th:only-of-type {\n",
       "        vertical-align: middle;\n",
       "    }\n",
       "\n",
       "    .dataframe tbody tr th {\n",
       "        vertical-align: top;\n",
       "    }\n",
       "\n",
       "    .dataframe thead th {\n",
       "        text-align: right;\n",
       "    }\n",
       "</style>\n",
       "<table border=\"1\" class=\"dataframe\">\n",
       "  <thead>\n",
       "    <tr style=\"text-align: right;\">\n",
       "      <th></th>\n",
       "      <th>min</th>\n",
       "      <th>max</th>\n",
       "      <th>Lifespan</th>\n",
       "    </tr>\n",
       "    <tr>\n",
       "      <th>Platform</th>\n",
       "      <th></th>\n",
       "      <th></th>\n",
       "      <th></th>\n",
       "    </tr>\n",
       "  </thead>\n",
       "  <tbody>\n",
       "    <tr>\n",
       "      <th>DS</th>\n",
       "      <td>1985</td>\n",
       "      <td>2013</td>\n",
       "      <td>28</td>\n",
       "    </tr>\n",
       "    <tr>\n",
       "      <th>PS2</th>\n",
       "      <td>2000</td>\n",
       "      <td>2011</td>\n",
       "      <td>11</td>\n",
       "    </tr>\n",
       "    <tr>\n",
       "      <th>PS3</th>\n",
       "      <td>2006</td>\n",
       "      <td>2016</td>\n",
       "      <td>10</td>\n",
       "    </tr>\n",
       "    <tr>\n",
       "      <th>Wii</th>\n",
       "      <td>2006</td>\n",
       "      <td>2016</td>\n",
       "      <td>10</td>\n",
       "    </tr>\n",
       "    <tr>\n",
       "      <th>X360</th>\n",
       "      <td>2005</td>\n",
       "      <td>2016</td>\n",
       "      <td>11</td>\n",
       "    </tr>\n",
       "  </tbody>\n",
       "</table>\n",
       "</div>"
      ],
      "text/plain": [
       "           min   max  Lifespan\n",
       "Platform                      \n",
       "DS        1985  2013        28\n",
       "PS2       2000  2011        11\n",
       "PS3       2006  2016        10\n",
       "Wii       2006  2016        10\n",
       "X360      2005  2016        11"
      ]
     },
     "execution_count": 18,
     "metadata": {},
     "output_type": "execute_result"
    }
   ],
   "source": [
    "# Calculate first and last year of sales for each platform\n",
    "platform_lifespan = top_platforms_data.groupby('Platform')['Year_of_Release'].agg(['min', 'max'])\n",
    "platform_lifespan['Lifespan'] = platform_lifespan['max'] - platform_lifespan['min']\n",
    "platform_lifespan"
   ]
  },
  {
   "cell_type": "code",
   "execution_count": 19,
   "metadata": {},
   "outputs": [
    {
     "data": {
      "text/html": [
       "<div>\n",
       "<style scoped>\n",
       "    .dataframe tbody tr th:only-of-type {\n",
       "        vertical-align: middle;\n",
       "    }\n",
       "\n",
       "    .dataframe tbody tr th {\n",
       "        vertical-align: top;\n",
       "    }\n",
       "\n",
       "    .dataframe thead th {\n",
       "        text-align: right;\n",
       "    }\n",
       "</style>\n",
       "<table border=\"1\" class=\"dataframe\">\n",
       "  <thead>\n",
       "    <tr style=\"text-align: right;\">\n",
       "      <th></th>\n",
       "      <th>min</th>\n",
       "      <th>max</th>\n",
       "      <th>Lifespan</th>\n",
       "    </tr>\n",
       "    <tr>\n",
       "      <th>Platform</th>\n",
       "      <th></th>\n",
       "      <th></th>\n",
       "      <th></th>\n",
       "    </tr>\n",
       "  </thead>\n",
       "  <tbody>\n",
       "    <tr>\n",
       "      <th>DS</th>\n",
       "      <td>1985</td>\n",
       "      <td>2013</td>\n",
       "      <td>28</td>\n",
       "    </tr>\n",
       "    <tr>\n",
       "      <th>PS2</th>\n",
       "      <td>2000</td>\n",
       "      <td>2011</td>\n",
       "      <td>11</td>\n",
       "    </tr>\n",
       "    <tr>\n",
       "      <th>X360</th>\n",
       "      <td>2005</td>\n",
       "      <td>2016</td>\n",
       "      <td>11</td>\n",
       "    </tr>\n",
       "    <tr>\n",
       "      <th>PS3</th>\n",
       "      <td>2006</td>\n",
       "      <td>2016</td>\n",
       "      <td>10</td>\n",
       "    </tr>\n",
       "    <tr>\n",
       "      <th>Wii</th>\n",
       "      <td>2006</td>\n",
       "      <td>2016</td>\n",
       "      <td>10</td>\n",
       "    </tr>\n",
       "  </tbody>\n",
       "</table>\n",
       "</div>"
      ],
      "text/plain": [
       "           min   max  Lifespan\n",
       "Platform                      \n",
       "DS        1985  2013        28\n",
       "PS2       2000  2011        11\n",
       "X360      2005  2016        11\n",
       "PS3       2006  2016        10\n",
       "Wii       2006  2016        10"
      ]
     },
     "execution_count": 19,
     "metadata": {},
     "output_type": "execute_result"
    }
   ],
   "source": [
    "# Platform lifespan of top 5 platforms\n",
    "platform_lifespan = platform_lifespan.sort_values('Lifespan', ascending=False)\n",
    "platform_lifespan"
   ]
  },
  {
   "cell_type": "markdown",
   "metadata": {},
   "source": [
    "### Summary:\n",
    "The platform lifespan analysis highlights the longevity of some key gaming platforms. The DS platform had an impressive lifespan of 28 years, from its first release in 1985 to its last sales recorded in 2013, showing the staying power of handheld consoles. In comparison, platforms like the PS2, X360, PS3, and Wii all had shorter lifespans, ranging from 10 to 11 years. This indicates that, while these platforms had significant success during their peak years, they eventually faded as newer technologies and competitors emerged. The relatively short lifespans of home consoles like PS2 and X360 suggest that businesses must be agile, quickly adapting to new trends and technologies to maintain relevance. These insights emphasize the need for strategic planning around the lifecycle of platforms, ensuring that marketing efforts are concentrated during the prime years of each platform’s existence."
   ]
  },
  {
   "cell_type": "markdown",
   "metadata": {},
   "source": [
    "### Total Sales of Games by Platform"
   ]
  },
  {
   "cell_type": "code",
   "execution_count": 20,
   "metadata": {
    "scrolled": false
   },
   "outputs": [],
   "source": [
    "# Filter data for time period\n",
    "data_filtered = data[(data['Year_of_Release'] >= 2013) & (data['Year_of_Release'] <= 2016)]\n",
    "\n",
    "# Group the data by platform and year\n",
    "platform_year_sales = data_filtered.groupby(['Platform', 'Year_of_Release'])['Total_sales'].sum().unstack('Year_of_Release')\n",
    "\n",
    "# Format for box plots\n",
    "box_data = [platform_year_sales.loc[platform].dropna() for platform in platform_year_sales.index]"
   ]
  },
  {
   "cell_type": "code",
   "execution_count": 21,
   "metadata": {},
   "outputs": [
    {
     "data": {
      "image/png": "[encoded data removed]",
      "text/plain": [
       "<Figure size 640x480 with 1 Axes>"
      ]
     },
     "metadata": {},
     "output_type": "display_data"
    }
   ],
   "source": [
    "# box plots\n",
    "plt.boxplot(box_data, labels=platform_year_sales.index)\n",
    "plt.title('Distribution of Total Sales (2013-2016) for All Platforms')\n",
    "plt.xlabel('Platform')\n",
    "plt.ylabel('Total Sales (Millions)')\n",
    "plt.xticks(rotation=45)\n",
    "plt.show()"
   ]
  },
  {
   "cell_type": "markdown",
   "metadata": {},
   "source": [
    "### Summary:\n",
    "The box plots highlight significant variability in annual total sales across platforms. Some platforms show a consistent, narrow range of sales over the years, while others experience dramatic peaks and troughs, indicating volatile performance. These differences provide actionable insights: stable platforms may offer reliable returns, whereas platforms with high variability could benefit from targeted marketing efforts to manage fluctuations and capture peak sales periods."
   ]
  },
  {
   "cell_type": "markdown",
   "metadata": {},
   "source": [
    "## Professional Reviews Influence on X360"
   ]
  },
  {
   "cell_type": "code",
   "execution_count": 22,
   "metadata": {},
   "outputs": [
    {
     "data": {
      "text/html": [
       "<div>\n",
       "<style scoped>\n",
       "    .dataframe tbody tr th:only-of-type {\n",
       "        vertical-align: middle;\n",
       "    }\n",
       "\n",
       "    .dataframe tbody tr th {\n",
       "        vertical-align: top;\n",
       "    }\n",
       "\n",
       "    .dataframe thead th {\n",
       "        text-align: right;\n",
       "    }\n",
       "</style>\n",
       "<table border=\"1\" class=\"dataframe\">\n",
       "  <thead>\n",
       "    <tr style=\"text-align: right;\">\n",
       "      <th></th>\n",
       "      <th>Name</th>\n",
       "      <th>Platform</th>\n",
       "      <th>Year_of_Release</th>\n",
       "      <th>Genre</th>\n",
       "      <th>NA_sales</th>\n",
       "      <th>EU_sales</th>\n",
       "      <th>JP_sales</th>\n",
       "      <th>Other_sales</th>\n",
       "      <th>Critic_Score</th>\n",
       "      <th>User_Score</th>\n",
       "      <th>Rating</th>\n",
       "      <th>Total_sales</th>\n",
       "    </tr>\n",
       "  </thead>\n",
       "  <tbody>\n",
       "    <tr>\n",
       "      <th>14</th>\n",
       "      <td>Kinect Adventures!</td>\n",
       "      <td>X360</td>\n",
       "      <td>2010</td>\n",
       "      <td>Misc</td>\n",
       "      <td>15.00</td>\n",
       "      <td>4.89</td>\n",
       "      <td>0.24</td>\n",
       "      <td>1.69</td>\n",
       "      <td>61.0</td>\n",
       "      <td>6.3</td>\n",
       "      <td>E</td>\n",
       "      <td>21.82</td>\n",
       "    </tr>\n",
       "    <tr>\n",
       "      <th>23</th>\n",
       "      <td>Grand Theft Auto V</td>\n",
       "      <td>X360</td>\n",
       "      <td>2013</td>\n",
       "      <td>Action</td>\n",
       "      <td>9.66</td>\n",
       "      <td>5.14</td>\n",
       "      <td>0.06</td>\n",
       "      <td>1.41</td>\n",
       "      <td>97.0</td>\n",
       "      <td>8.1</td>\n",
       "      <td>M</td>\n",
       "      <td>16.27</td>\n",
       "    </tr>\n",
       "    <tr>\n",
       "      <th>29</th>\n",
       "      <td>Call of Duty: Modern Warfare 3</td>\n",
       "      <td>X360</td>\n",
       "      <td>2011</td>\n",
       "      <td>Shooter</td>\n",
       "      <td>9.04</td>\n",
       "      <td>4.24</td>\n",
       "      <td>0.13</td>\n",
       "      <td>1.32</td>\n",
       "      <td>88.0</td>\n",
       "      <td>3.4</td>\n",
       "      <td>M</td>\n",
       "      <td>14.73</td>\n",
       "    </tr>\n",
       "    <tr>\n",
       "      <th>32</th>\n",
       "      <td>Call of Duty: Black Ops</td>\n",
       "      <td>X360</td>\n",
       "      <td>2010</td>\n",
       "      <td>Shooter</td>\n",
       "      <td>9.70</td>\n",
       "      <td>3.68</td>\n",
       "      <td>0.11</td>\n",
       "      <td>1.13</td>\n",
       "      <td>87.0</td>\n",
       "      <td>6.3</td>\n",
       "      <td>M</td>\n",
       "      <td>14.62</td>\n",
       "    </tr>\n",
       "    <tr>\n",
       "      <th>35</th>\n",
       "      <td>Call of Duty: Black Ops II</td>\n",
       "      <td>X360</td>\n",
       "      <td>2012</td>\n",
       "      <td>Shooter</td>\n",
       "      <td>8.25</td>\n",
       "      <td>4.24</td>\n",
       "      <td>0.07</td>\n",
       "      <td>1.12</td>\n",
       "      <td>83.0</td>\n",
       "      <td>4.8</td>\n",
       "      <td>M</td>\n",
       "      <td>13.68</td>\n",
       "    </tr>\n",
       "    <tr>\n",
       "      <th>...</th>\n",
       "      <td>...</td>\n",
       "      <td>...</td>\n",
       "      <td>...</td>\n",
       "      <td>...</td>\n",
       "      <td>...</td>\n",
       "      <td>...</td>\n",
       "      <td>...</td>\n",
       "      <td>...</td>\n",
       "      <td>...</td>\n",
       "      <td>...</td>\n",
       "      <td>...</td>\n",
       "      <td>...</td>\n",
       "    </tr>\n",
       "    <tr>\n",
       "      <th>16613</th>\n",
       "      <td>Dragon Ball Z for Kinect</td>\n",
       "      <td>X360</td>\n",
       "      <td>2012</td>\n",
       "      <td>Fighting</td>\n",
       "      <td>0.01</td>\n",
       "      <td>0.00</td>\n",
       "      <td>0.00</td>\n",
       "      <td>0.00</td>\n",
       "      <td>49.0</td>\n",
       "      <td>2.1</td>\n",
       "      <td>T</td>\n",
       "      <td>0.01</td>\n",
       "    </tr>\n",
       "    <tr>\n",
       "      <th>16622</th>\n",
       "      <td>World Snooker Championship 2007</td>\n",
       "      <td>X360</td>\n",
       "      <td>2007</td>\n",
       "      <td>Sports</td>\n",
       "      <td>0.00</td>\n",
       "      <td>0.01</td>\n",
       "      <td>0.00</td>\n",
       "      <td>0.00</td>\n",
       "      <td>NaN</td>\n",
       "      <td>NaN</td>\n",
       "      <td>Unknown</td>\n",
       "      <td>0.01</td>\n",
       "    </tr>\n",
       "    <tr>\n",
       "      <th>16647</th>\n",
       "      <td>Metal Gear Solid HD Edition</td>\n",
       "      <td>X360</td>\n",
       "      <td>2011</td>\n",
       "      <td>Action</td>\n",
       "      <td>0.00</td>\n",
       "      <td>0.00</td>\n",
       "      <td>0.01</td>\n",
       "      <td>0.00</td>\n",
       "      <td>NaN</td>\n",
       "      <td>NaN</td>\n",
       "      <td>M</td>\n",
       "      <td>0.01</td>\n",
       "    </tr>\n",
       "    <tr>\n",
       "      <th>16654</th>\n",
       "      <td>Ben 10 Omniverse 2</td>\n",
       "      <td>X360</td>\n",
       "      <td>2013</td>\n",
       "      <td>Action</td>\n",
       "      <td>0.00</td>\n",
       "      <td>0.01</td>\n",
       "      <td>0.00</td>\n",
       "      <td>0.00</td>\n",
       "      <td>NaN</td>\n",
       "      <td>5.1</td>\n",
       "      <td>E10+</td>\n",
       "      <td>0.01</td>\n",
       "    </tr>\n",
       "    <tr>\n",
       "      <th>16711</th>\n",
       "      <td>LMA Manager 2007</td>\n",
       "      <td>X360</td>\n",
       "      <td>2006</td>\n",
       "      <td>Sports</td>\n",
       "      <td>0.00</td>\n",
       "      <td>0.01</td>\n",
       "      <td>0.00</td>\n",
       "      <td>0.00</td>\n",
       "      <td>NaN</td>\n",
       "      <td>NaN</td>\n",
       "      <td>Unknown</td>\n",
       "      <td>0.01</td>\n",
       "    </tr>\n",
       "  </tbody>\n",
       "</table>\n",
       "<p>1232 rows × 12 columns</p>\n",
       "</div>"
      ],
      "text/plain": [
       "                                  Name Platform  Year_of_Release     Genre  \\\n",
       "14                  Kinect Adventures!     X360             2010      Misc   \n",
       "23                  Grand Theft Auto V     X360             2013    Action   \n",
       "29      Call of Duty: Modern Warfare 3     X360             2011   Shooter   \n",
       "32             Call of Duty: Black Ops     X360             2010   Shooter   \n",
       "35          Call of Duty: Black Ops II     X360             2012   Shooter   \n",
       "...                                ...      ...              ...       ...   \n",
       "16613         Dragon Ball Z for Kinect     X360             2012  Fighting   \n",
       "16622  World Snooker Championship 2007     X360             2007    Sports   \n",
       "16647      Metal Gear Solid HD Edition     X360             2011    Action   \n",
       "16654               Ben 10 Omniverse 2     X360             2013    Action   \n",
       "16711                 LMA Manager 2007     X360             2006    Sports   \n",
       "\n",
       "       NA_sales  EU_sales  JP_sales  Other_sales  Critic_Score  User_Score  \\\n",
       "14        15.00      4.89      0.24         1.69          61.0         6.3   \n",
       "23         9.66      5.14      0.06         1.41          97.0         8.1   \n",
       "29         9.04      4.24      0.13         1.32          88.0         3.4   \n",
       "32         9.70      3.68      0.11         1.13          87.0         6.3   \n",
       "35         8.25      4.24      0.07         1.12          83.0         4.8   \n",
       "...         ...       ...       ...          ...           ...         ...   \n",
       "16613      0.01      0.00      0.00         0.00          49.0         2.1   \n",
       "16622      0.00      0.01      0.00         0.00           NaN         NaN   \n",
       "16647      0.00      0.00      0.01         0.00           NaN         NaN   \n",
       "16654      0.00      0.01      0.00         0.00           NaN         5.1   \n",
       "16711      0.00      0.01      0.00         0.00           NaN         NaN   \n",
       "\n",
       "        Rating  Total_sales  \n",
       "14           E        21.82  \n",
       "23           M        16.27  \n",
       "29           M        14.73  \n",
       "32           M        14.62  \n",
       "35           M        13.68  \n",
       "...        ...          ...  \n",
       "16613        T         0.01  \n",
       "16622  Unknown         0.01  \n",
       "16647        M         0.01  \n",
       "16654     E10+         0.01  \n",
       "16711  Unknown         0.01  \n",
       "\n",
       "[1232 rows x 12 columns]"
      ]
     },
     "execution_count": 22,
     "metadata": {},
     "output_type": "execute_result"
    }
   ],
   "source": [
    "x360_data = data[data['Platform'] == 'X360']\n",
    "x360_data"
   ]
  },
  {
   "cell_type": "markdown",
   "metadata": {},
   "source": [
    "### Scores vs Total Sales"
   ]
  },
  {
   "cell_type": "markdown",
   "metadata": {},
   "source": [
    "### Critic Scores vs Total Sales"
   ]
  },
  {
   "cell_type": "code",
   "execution_count": 23,
   "metadata": {
    "scrolled": false
   },
   "outputs": [
    {
     "data": {
      "image/png": "[encoded data removed]",
      "text/plain": [
       "<Figure size 640x480 with 1 Axes>"
      ]
     },
     "metadata": {},
     "output_type": "display_data"
    }
   ],
   "source": [
    "# Scatter plot for Critic_Score vs. Total_sales\n",
    "plt.scatter(x360_data['Critic_Score'], x360_data['Total_sales'], color='blue')\n",
    "plt.title('Critic Score vs. Total Sales (X360)')\n",
    "plt.xlabel('Critic Score')\n",
    "plt.ylabel('Total Sales (Millions)')\n",
    "plt.show()"
   ]
  },
  {
   "cell_type": "markdown",
   "metadata": {},
   "source": [
    "### User Scores vs Total Sales"
   ]
  },
  {
   "cell_type": "code",
   "execution_count": 24,
   "metadata": {},
   "outputs": [
    {
     "data": {
      "image/png": "[encoded data removed]",
      "text/plain": [
       "<Figure size 640x480 with 1 Axes>"
      ]
     },
     "metadata": {},
     "output_type": "display_data"
    }
   ],
   "source": [
    "# Scatter plot for User_Score vs. Total_sales\n",
    "plt.scatter(x360_data['User_Score'], x360_data['Total_sales'], color='green')\n",
    "plt.title('User Score vs. Total Sales (X360)')\n",
    "plt.xlabel('User Score')\n",
    "plt.ylabel('Total Sales (Millions)')\n",
    "plt.show()"
   ]
  },
  {
   "cell_type": "code",
   "execution_count": 25,
   "metadata": {},
   "outputs": [
    {
     "name": "stdout",
     "output_type": "stream",
     "text": [
      "Correlation between Critic Score and Total Sales for X360: 0.3929\n",
      "Correlation between User Score and Total Sales for X360: 0.1142\n"
     ]
    }
   ],
   "source": [
    "# Correlations\n",
    "critic_corr = x360_data['Critic_Score'].corr(x360_data['Total_sales']).round(4)\n",
    "user_corr = x360_data['User_Score'].corr(x360_data['Total_sales']).round(4)\n",
    "\n",
    "# Display\n",
    "print(\"Correlation between Critic Score and Total Sales for X360:\", critic_corr)\n",
    "print(\"Correlation between User Score and Total Sales for X360:\", user_corr)"
   ]
  },
  {
   "cell_type": "markdown",
   "metadata": {},
   "source": [
    "### Summary:\n",
    "The analysis reveals that for Xbox 360 games, there is a moderate positive correlation (0.3606) between Critic Score and Total Sales, whereas the correlation between User Score and Total Sales is very weak (0.059). This suggests that professional reviews appear to have a more significant influence on sales than user reviews on this platform. From a business perspective, this insight indicates that expert opinions might play a crucial role in shaping consumer perceptions and purchasing decisions for Xbox 360 games. Consequently, emphasizing critic endorsements in marketing and promotional strategies could be more effective in driving sales, while relying solely on user-generated ratings may not yield the same impact."
   ]
  },
  {
   "cell_type": "markdown",
   "metadata": {},
   "source": [
    "### Total Sales per Genre"
   ]
  },
  {
   "cell_type": "code",
   "execution_count": 26,
   "metadata": {},
   "outputs": [],
   "source": [
    "# Filter data for time period\n",
    "data_filtered = data[(data['Year_of_Release'] >= 2013) & (data['Year_of_Release'] <= 2016)]\n",
    "\n",
    "# Group by genre and year\n",
    "genre_year_sales = data_filtered.groupby(['Genre', 'Year_of_Release'])['Total_sales'].sum().unstack('Year_of_Release')\n",
    "\n",
    "# Format data for box plots\n",
    "box_data = [genre_year_sales.loc[genre].dropna().values for genre in genre_year_sales.index]"
   ]
  },
  {
   "cell_type": "code",
   "execution_count": 27,
   "metadata": {},
   "outputs": [
    {
     "data": {
      "text/plain": [
       "[array([122.51,  97.23,  72.02,  30.11]),\n",
       " array([6.09, 5.57, 8.16, 3.82]),\n",
       " array([ 7.09, 15.85,  7.9 ,  4.47]),\n",
       " array([25.27, 23.38, 11.57,  2.6 ]),\n",
       " array([24.54,  8.81,  6.05,  3.23]),\n",
       " array([0.96, 1.49, 0.71, 0.01]),\n",
       " array([12.37, 16.66,  8.07,  2.79]),\n",
       " array([44.45, 45.62, 37.64, 18.18]),\n",
       " array([62.04, 65.21, 67.51, 38.22]),\n",
       " array([8.63, 5.58, 5.66, 1.89]),\n",
       " array([41.17, 45.15, 40.84, 23.49]),\n",
       " array([6.12, 0.98, 1.85, 1.13])]"
      ]
     },
     "execution_count": 27,
     "metadata": {},
     "output_type": "execute_result"
    }
   ],
   "source": [
    "box_data"
   ]
  },
  {
   "cell_type": "code",
   "execution_count": 28,
   "metadata": {},
   "outputs": [
    {
     "data": {
      "image/png": "[encoded data removed]",
      "text/plain": [
       "<Figure size 640x480 with 1 Axes>"
      ]
     },
     "metadata": {},
     "output_type": "display_data"
    }
   ],
   "source": [
    "# plot distribution\n",
    "plt.boxplot(box_data, labels=genre_year_sales.index)\n",
    "plt.title('Distribution of Total Sales (2013-2016) for each Genre')\n",
    "plt.xlabel('Genre')\n",
    "plt.ylabel('Total Sales (Millions)')\n",
    "plt.xticks(rotation=45)\n",
    "plt.show()"
   ]
  },
  {
   "cell_type": "markdown",
   "metadata": {},
   "source": [
    "### Summary:\n",
    "The box plots reveal distinct patterns in annual sales performance across platforms from 2013 to 2016. For example, platforms like PS4 and XOne exhibit relatively consistent sales figures over multiple years, suggesting stable performance and a reliable market presence. Conversely, platforms such as PS3 and X360 show a wide range of annual sales, indicating greater volatility. This could reflect fluctuating consumer demand, the impact of blockbuster releases, or transitions between console generations. Some platforms, like DS and PSP, display data for only a single year or very limited activity during this period, which may point to their phasing out or reduced market focus. These insights enable us to tailor marketing strategies and resource allocation by focusing on platforms with stable growth while addressing the variability observed in others, ultimately supporting more informed, data-driven decision-making in our advertising and product planning efforts."
   ]
  },
  {
   "cell_type": "markdown",
   "metadata": {},
   "source": [
    "## Create A User Profile for each Region"
   ]
  },
  {
   "cell_type": "markdown",
   "metadata": {},
   "source": [
    "### Region Platforms"
   ]
  },
  {
   "cell_type": "code",
   "execution_count": 29,
   "metadata": {},
   "outputs": [
    {
     "data": {
      "text/plain": [
       "Platform\n",
       "X360    595.74\n",
       "PS2     572.92\n",
       "Wii     486.87\n",
       "PS3     390.13\n",
       "DS      380.31\n",
       "Name: NA_sales, dtype: float64"
      ]
     },
     "execution_count": 29,
     "metadata": {},
     "output_type": "execute_result"
    }
   ],
   "source": [
    "# North America Platforms\n",
    "na_platforms = data.groupby('Platform')['NA_sales'].sum().sort_values(ascending=False).head(5)\n",
    "na_platforms"
   ]
  },
  {
   "cell_type": "code",
   "execution_count": 30,
   "metadata": {},
   "outputs": [
    {
     "data": {
      "text/plain": [
       "Platform\n",
       "PS2     332.63\n",
       "PS3     327.21\n",
       "X360    268.32\n",
       "Wii     258.32\n",
       "PS      212.39\n",
       "Name: EU_sales, dtype: float64"
      ]
     },
     "execution_count": 30,
     "metadata": {},
     "output_type": "execute_result"
    }
   ],
   "source": [
    "# Europe Platforms\n",
    "eu_platforms = data.groupby('Platform')['EU_sales'].sum().sort_values(ascending=False).head(5)\n",
    "eu_platforms"
   ]
  },
  {
   "cell_type": "code",
   "execution_count": 31,
   "metadata": {},
   "outputs": [
    {
     "data": {
      "text/plain": [
       "Platform\n",
       "DS      175.02\n",
       "PS      139.78\n",
       "PS2     137.54\n",
       "SNES    116.55\n",
       "3DS     100.62\n",
       "Name: JP_sales, dtype: float64"
      ]
     },
     "execution_count": 31,
     "metadata": {},
     "output_type": "execute_result"
    }
   ],
   "source": [
    "# Japan Platforms\n",
    "jp_platforms = data.groupby('Platform')['JP_sales'].sum().sort_values(ascending=False).head(5)\n",
    "jp_platforms"
   ]
  },
  {
   "cell_type": "code",
   "execution_count": 32,
   "metadata": {},
   "outputs": [
    {
     "data": {
      "image/png": "[encoded data removed]",
      "text/plain": [
       "<Figure size 640x480 with 1 Axes>"
      ]
     },
     "metadata": {},
     "output_type": "display_data"
    }
   ],
   "source": [
    "# combine data\n",
    "combined_df = pd.concat([na_platforms, eu_platforms, jp_platforms], axis=1)\n",
    "combined_df.columns = ['NA_sales', 'EU_sales', 'JP_sales']\n",
    "\n",
    "# fill missing values with 0\n",
    "combined_df = combined_df.fillna(0)\n",
    "\n",
    "# plot\n",
    "combined_df.plot(\n",
    "    kind='bar',\n",
    "    title='Top Platfomrs by Region',\n",
    "    xlabel=\"Sales (Millions)\",\n",
    "    ylabel='Platform'\n",
    ")\n",
    "plt.show()"
   ]
  },
  {
   "cell_type": "markdown",
   "metadata": {},
   "source": [
    "### Summary:\n",
    "The regional breakdown of platform sales reveals distinct consumer preferences. In North America, the Xbox 360 leads with 595.74 million in sales, followed closely by the PS2, Wii, PS3, and DS—indicating a strong demand for home consoles with robust game libraries and brand loyalty. In Europe, however, Sony's consoles dominate the market, with the PS2 and PS3 accounting for 332.63 and 327.21 million respectively, while the Xbox 360 and Wii trail behind. Meanwhile, Japan's market is notably different, favoring handheld and legacy systems; the DS tops the list with 175.02 million in sales, and older consoles like the SNES and 3DS also make the top five. These variations suggest that marketing strategies should be region-specific—emphasizing Xbox's strengths in North America, capitalizing on Sony's established reputation in Europe, and leveraging handheld, nostalgia-driven titles in Japan."
   ]
  },
  {
   "cell_type": "markdown",
   "metadata": {},
   "source": [
    "### Region Genres"
   ]
  },
  {
   "cell_type": "code",
   "execution_count": 33,
   "metadata": {},
   "outputs": [
    {
     "data": {
      "text/plain": [
       "Genre\n",
       "Action      863.17\n",
       "Sports      671.20\n",
       "Shooter     584.83\n",
       "Platform    444.44\n",
       "Misc        399.57\n",
       "Name: NA_sales, dtype: float64"
      ]
     },
     "execution_count": 33,
     "metadata": {},
     "output_type": "execute_result"
    }
   ],
   "source": [
    "# North America Genres\n",
    "na_genres = data.groupby('Genre')['NA_sales'].sum().sort_values(ascending=False).head(5)\n",
    "na_genres"
   ]
  },
  {
   "cell_type": "code",
   "execution_count": 34,
   "metadata": {},
   "outputs": [
    {
     "data": {
      "text/plain": [
       "Genre\n",
       "Action     510.99\n",
       "Sports     371.33\n",
       "Shooter    314.52\n",
       "Racing     234.49\n",
       "Misc       210.60\n",
       "Name: EU_sales, dtype: float64"
      ]
     },
     "execution_count": 34,
     "metadata": {},
     "output_type": "execute_result"
    }
   ],
   "source": [
    "# Europe Genres\n",
    "eu_genres = data.groupby('Genre')['EU_sales'].sum().sort_values(ascending=False).head(5)\n",
    "eu_genres"
   ]
  },
  {
   "cell_type": "code",
   "execution_count": 35,
   "metadata": {
    "scrolled": true
   },
   "outputs": [
    {
     "data": {
      "text/plain": [
       "Genre\n",
       "Role-Playing    353.39\n",
       "Action          160.14\n",
       "Sports          134.93\n",
       "Platform        130.71\n",
       "Misc            107.02\n",
       "Name: JP_sales, dtype: float64"
      ]
     },
     "execution_count": 35,
     "metadata": {},
     "output_type": "execute_result"
    }
   ],
   "source": [
    "# Japan Genres\n",
    "jp_genres = data.groupby('Genre')['JP_sales'].sum().sort_values(ascending=False).head(5)\n",
    "jp_genres"
   ]
  },
  {
   "cell_type": "code",
   "execution_count": 36,
   "metadata": {},
   "outputs": [
    {
     "data": {
      "image/png": "[encoded data removed]",
      "text/plain": [
       "<Figure size 640x480 with 1 Axes>"
      ]
     },
     "metadata": {},
     "output_type": "display_data"
    }
   ],
   "source": [
    "# combine data\n",
    "combine_df = pd.concat([na_genres, eu_genres, jp_genres], axis=1)\n",
    "combine_df.columns = ['NA_sales', 'EU_sales', 'JP_sales']\n",
    "\n",
    "# Fill missing values with 0\n",
    "combine_df = combine_df.fillna(0)\n",
    "\n",
    "# plot\n",
    "combine_df.plot(\n",
    "    kind='bar',\n",
    "    title='Top Genres per Region',\n",
    "    xlabel='Sales (Millions)',\n",
    "    ylabel='Genre'\n",
    ")\n",
    "plt.show()"
   ]
  },
  {
   "cell_type": "markdown",
   "metadata": {},
   "source": [
    "### Summary:\n",
    "In North America, the market is heavily dominated by Action games, followed by Sports, Shooter, Role-Playing, and Platform genres, indicating a strong preference for fast-paced and immersive gaming experiences with broad appeal. In Europe, while Action and Sports also lead the sales figures, Shooter titles and Racing games hold significant market share, suggesting that European gamers value both dynamic gameplay and competitive racing experiences. Meanwhile, the Japanese market diverges notably by favoring Role-Playing games as the top genre, with Action and Sports also performing well, followed by Platform and Miscellaneous titles. This regional variation underscores the need for tailored content and marketing strategies: North America’s diverse taste in high-energy genres, Europe’s balanced interest in both action-packed and competitive experiences, and Japan’s distinct inclination towards narrative-rich role-playing games."
   ]
  },
  {
   "cell_type": "markdown",
   "metadata": {},
   "source": [
    "### Region Ratings"
   ]
  },
  {
   "cell_type": "code",
   "execution_count": 37,
   "metadata": {},
   "outputs": [
    {
     "data": {
      "text/html": [
       "<div>\n",
       "<style scoped>\n",
       "    .dataframe tbody tr th:only-of-type {\n",
       "        vertical-align: middle;\n",
       "    }\n",
       "\n",
       "    .dataframe tbody tr th {\n",
       "        vertical-align: top;\n",
       "    }\n",
       "\n",
       "    .dataframe thead th {\n",
       "        text-align: right;\n",
       "    }\n",
       "</style>\n",
       "<table border=\"1\" class=\"dataframe\">\n",
       "  <thead>\n",
       "    <tr style=\"text-align: right;\">\n",
       "      <th></th>\n",
       "      <th>NA_sales</th>\n",
       "      <th>EU_sales</th>\n",
       "      <th>JP_sales</th>\n",
       "    </tr>\n",
       "    <tr>\n",
       "      <th>Rating</th>\n",
       "      <th></th>\n",
       "      <th></th>\n",
       "      <th></th>\n",
       "    </tr>\n",
       "  </thead>\n",
       "  <tbody>\n",
       "    <tr>\n",
       "      <th>AO</th>\n",
       "      <td>1.26</td>\n",
       "      <td>0.61</td>\n",
       "      <td>0.00</td>\n",
       "    </tr>\n",
       "    <tr>\n",
       "      <th>E</th>\n",
       "      <td>1274.24</td>\n",
       "      <td>703.87</td>\n",
       "      <td>197.96</td>\n",
       "    </tr>\n",
       "    <tr>\n",
       "      <th>E10+</th>\n",
       "      <td>345.50</td>\n",
       "      <td>183.35</td>\n",
       "      <td>40.20</td>\n",
       "    </tr>\n",
       "    <tr>\n",
       "      <th>EC</th>\n",
       "      <td>1.53</td>\n",
       "      <td>0.11</td>\n",
       "      <td>0.00</td>\n",
       "    </tr>\n",
       "    <tr>\n",
       "      <th>K-A</th>\n",
       "      <td>2.56</td>\n",
       "      <td>0.27</td>\n",
       "      <td>1.46</td>\n",
       "    </tr>\n",
       "    <tr>\n",
       "      <th>M</th>\n",
       "      <td>742.89</td>\n",
       "      <td>480.00</td>\n",
       "      <td>63.58</td>\n",
       "    </tr>\n",
       "    <tr>\n",
       "      <th>RP</th>\n",
       "      <td>0.00</td>\n",
       "      <td>0.03</td>\n",
       "      <td>0.00</td>\n",
       "    </tr>\n",
       "    <tr>\n",
       "      <th>T</th>\n",
       "      <td>747.60</td>\n",
       "      <td>421.79</td>\n",
       "      <td>150.70</td>\n",
       "    </tr>\n",
       "    <tr>\n",
       "      <th>Unknown</th>\n",
       "      <td>1225.84</td>\n",
       "      <td>609.65</td>\n",
       "      <td>836.74</td>\n",
       "    </tr>\n",
       "  </tbody>\n",
       "</table>\n",
       "</div>"
      ],
      "text/plain": [
       "         NA_sales  EU_sales  JP_sales\n",
       "Rating                               \n",
       "AO           1.26      0.61      0.00\n",
       "E         1274.24    703.87    197.96\n",
       "E10+       345.50    183.35     40.20\n",
       "EC           1.53      0.11      0.00\n",
       "K-A          2.56      0.27      1.46\n",
       "M          742.89    480.00     63.58\n",
       "RP           0.00      0.03      0.00\n",
       "T          747.60    421.79    150.70\n",
       "Unknown   1225.84    609.65    836.74"
      ]
     },
     "execution_count": 37,
     "metadata": {},
     "output_type": "execute_result"
    }
   ],
   "source": [
    "# Group by rating per region sales\n",
    "esrb_sales = data.groupby('Rating')[['NA_sales', 'EU_sales', 'JP_sales']].sum()\n",
    "esrb_sales"
   ]
  },
  {
   "cell_type": "code",
   "execution_count": 38,
   "metadata": {},
   "outputs": [
    {
     "data": {
      "image/png": "[encoded data removed]",
      "text/plain": [
       "<Figure size 640x480 with 1 Axes>"
      ]
     },
     "metadata": {},
     "output_type": "display_data"
    }
   ],
   "source": [
    "# Plot distribution\n",
    "esrb_sales.plot(\n",
    "    kind='bar',\n",
    "    title='Distribution by ESRB Rating per Region',\n",
    "    xlabel='Rating',\n",
    "    ylabel='Total Sales (Millions)'\n",
    ")\n",
    "plt.show()"
   ]
  },
  {
   "cell_type": "markdown",
   "metadata": {},
   "source": [
    "### Summary:\n",
    "The analysis shows that family-friendly games (rated \"E\") lead sales in North America and Europe, with 1274.24 million and 703.87 million respectively, while mature (\"M\") and teen (\"T\") rated games also perform well in these regions. In Japan, however, sales figures for these ratings are much lower. Notably, the \"Unknown\" category is significant across all regions, especially in North America and Japan, indicating a large share of games without clear ratings. These insights highlight the need for region-specific strategies that emphasize family-friendly and appropriately rated content in North America and Europe, while addressing the ambiguity in ratings that appears to impact sales in Japan."
   ]
  },
  {
   "cell_type": "markdown",
   "metadata": {},
   "source": [
    "## Test Hypotheses"
   ]
  },
  {
   "cell_type": "markdown",
   "metadata": {},
   "source": [
    "### Hypothesis 1 \n",
    "H0: Average user ratings of the Xbox One and PC platforms are equal.\n",
    "\n",
    "H1: Average user ratings of the Xbox One and PC platforms are different. "
   ]
  },
  {
   "cell_type": "code",
   "execution_count": 39,
   "metadata": {},
   "outputs": [
    {
     "name": "stdout",
     "output_type": "stream",
     "text": [
      "Variance in user ratings for Xbox One: 1.9069968429360695\n",
      "Variance in user ratings for PC: 3.035892752408882\n"
     ]
    }
   ],
   "source": [
    "# Test hypothesis\n",
    "# Filter by platform\n",
    "xbox_one_data = data[(data['Platform'] == 'XOne') & (data['Year_of_Release'] >= 2013) & (data['Year_of_Release'] <= 2016)]\n",
    "pc_data = data[(data['Platform'] == 'PC') & (data['Year_of_Release'] >= 2013) & (data['Year_of_Release'] <= 2016)]\n",
    "\n",
    "# Get user score data\n",
    "xbox_user_scores = xbox_one_data['User_Score'].dropna()\n",
    "pc_user_scores = pc_data['User_Score'].dropna()\n",
    "\n",
    "# Variance\n",
    "xbox_var = xbox_user_scores.var()\n",
    "pc_var = pc_user_scores.var()\n",
    "\n",
    "print(\"Variance in user ratings for Xbox One:\", xbox_var)\n",
    "print(\"Variance in user ratings for PC:\", pc_var)"
   ]
  },
  {
   "cell_type": "code",
   "execution_count": 40,
   "metadata": {},
   "outputs": [
    {
     "name": "stdout",
     "output_type": "stream",
     "text": [
      "pvalue: 0.14012658403611647\n",
      "We can't reject the null hypothesis.\n"
     ]
    }
   ],
   "source": [
    "# ttest\n",
    "alpha = 0.05\n",
    "\n",
    "results = st.ttest_ind(xbox_user_scores, pc_user_scores)\n",
    "print('pvalue:', results.pvalue)\n",
    "\n",
    "if results.pvalue < alpha:\n",
    "    print('We reject the null hypothesis.')\n",
    "else:\n",
    "    print(\"We can't reject the null hypothesis.\")"
   ]
  },
  {
   "cell_type": "markdown",
   "metadata": {},
   "source": [
    "### Summary:\n",
    "The hypothesis test comparing average user ratings for Xbox One and PC games (2013–2016) did not reveal a statistically significant difference, with a p-value of approximately 0.14 well above the 0.05 threshold. This means that, based on user ratings, both platforms perform similarly. Although PC games exhibit slightly higher variability in ratings (variance of 3.04 versus 1.91 for Xbox One), the overall user sentiment remains comparable. For business strategy, this suggests that marketing or product development efforts could be harmonized across these platforms rather than requiring distinctly tailored approaches based solely on user ratings."
   ]
  },
  {
   "cell_type": "markdown",
   "metadata": {},
   "source": [
    "### Hypothesis 2\n",
    "HO: Average user ratings for the Action and Sports genres are different.\n",
    "\n",
    "H1: Average user ratings for the Action and Sports genres are equal."
   ]
  },
  {
   "cell_type": "code",
   "execution_count": 41,
   "metadata": {},
   "outputs": [
    {
     "name": "stdout",
     "output_type": "stream",
     "text": [
      "Variance in user ratings for Action: 1.7693609042482705\n",
      "Variance in user ratings for Sports: 3.180612814465409\n"
     ]
    }
   ],
   "source": [
    "# Test Hypothesis\n",
    "# Filter by genre\n",
    "action_data = data[(data['Genre'] == 'Action') & (data['Year_of_Release'] >= 2013) & (data['Year_of_Release'] <= 2016)]\n",
    "\n",
    "# Filter data for Sports genre between 2013 and 2016\n",
    "sports_data = data[(data['Genre'] == 'Sports') & (data['Year_of_Release'] >= 2013) & (data['Year_of_Release'] <= 2016)]\n",
    "\n",
    "# Grab user score data\n",
    "action_user_data = action_data['User_Score'].dropna()\n",
    "sports_user_data = sports_data['User_Score'].dropna()\n",
    "\n",
    "# Variance\n",
    "action_var = action_user_data.var()\n",
    "sports_var = sports_user_data.var()\n",
    "\n",
    "print('Variance in user ratings for Action:', action_var)\n",
    "print('Variance in user ratings for Sports:', sports_var)"
   ]
  },
  {
   "cell_type": "code",
   "execution_count": 42,
   "metadata": {},
   "outputs": [
    {
     "name": "stdout",
     "output_type": "stream",
     "text": [
      "pvalue: 1.0517832389140023e-27\n",
      "We reject the null hypothesis.\n"
     ]
    }
   ],
   "source": [
    "# ttest\n",
    "alpha = 0.05\n",
    "\n",
    "results = st.ttest_ind(action_user_data, sports_user_data)\n",
    "\n",
    "print('pvalue:', results.pvalue)\n",
    "\n",
    "if results.pvalue < alpha:\n",
    "    print('We reject the null hypothesis.')\n",
    "else:\n",
    "    print(\"We can't reject the null hypothesis.\")"
   ]
  },
  {
   "cell_type": "markdown",
   "metadata": {},
   "source": [
    "### Summary:\n",
    "The hypothesis test comparing average user ratings for Action and Sports games between 2013 and 2016 reveals a highly statistically significant difference, with a p-value of approximately 1.05e-27. This result means that consumers perceive and rate games in these two genres very differently. While Action games have a variance of about 1.77 in their ratings, Sports games show greater variability at around 3.18, suggesting more inconsistent user experiences in that genre. For our business strategy, these findings underscore the importance of tailoring marketing and product development efforts separately for Action and Sports titles. Focusing on the specific strengths and addressing the challenges unique to each genre can help maximize customer satisfaction and improve overall sales performance."
   ]
  },
  {
   "cell_type": "markdown",
   "metadata": {},
   "source": [
    "### Formulation of null and alternative hypotheses\n",
    "These hypotheses were formulated to conduct a two-tailed test, which tests for the possibility of a difference in either direction. This approach is standard in hypothesis testing when there is no prior reason to assume a specific direction for the difference. The use of these comparative statements allows for a straightforward interpretation of the statistical test results and informs decision-making based on whether we can reject the null hypothesis."
   ]
  },
  {
   "cell_type": "markdown",
   "metadata": {},
   "source": [
    "### Significance level and why\n",
    "Alpha = 0.05 is a commonly accepted significance level in hypothesis testing. It means that there is a 5% risk of rejecting the null hypothesis when it is actually true. This threshold strikes a balance between being too strict and too lenient."
   ]
  },
  {
   "cell_type": "markdown",
   "metadata": {},
   "source": [
    "## Conclusion:\n",
    "This comprehensive analysis of the video game market reveals several key insights that can drive strategic decision-making. The data indicates that game releases peaked in the mid-2000s—specifically between 2008 and 2009—driven by the rise of popular gaming platforms and digital distribution, with a subsequent decline in titles in later years. This trend underscores the importance of timing in product launches and marketing efforts.\n",
    "\n",
    "Platform sales analysis shows that legacy systems like the PS2 and Wii were dominant during their peak years, while home consoles such as the Xbox 360 and PS3 maintained more stable sales over time. In contrast, newer platforms like the PS4 and Xbox One have not yet reached the same sales heights. Suggesting that while current-generation platforms offer growth potential, leveraging the nostalgia and strong game libraries of older systems could be beneficial for retro-focused campaigns.\n",
    "\n",
    "Regional preferences further distinguish the market. In North America, Xbox 360 leads, reflecting a robust home console culture, whereas European consumers favor Sony platforms, notably the PS2 and PS3. The Japanese market, on the other hand, leans towards handheld and legacy systems, with the DS dominating sales. These variations necessitate tailored regional strategies to effectively engage each market segment.\n",
    "\n",
    "Genre analysis reveals that high-performing genres such as Action, Sports, and Shooter drive the majority of revenue, largely due to their broad appeal and substantial marketing investments. Meanwhile, niche genres like Puzzle and Strategy offer opportunities for targeted campaigns aimed at specific consumer groups. Additionally, ESRB rating analysis highlights that family-friendly games (rated \"E\") consistently achieve the highest sales across all regions, while ratings aimed at older audiences perform better in North America and Europe than in Japan.\n",
    "\n",
    "Our hypothesis tests provide actionable insights for our strategy. The test comparing Xbox One and PC games (2013–2016) showed no significant difference in user ratings (p ≈ 0.14), indicating similar consumer perceptions and allowing for a unified approach. In contrast, the test for Action versus Sports games revealed a highly significant difference (p ≈ 1.05e-27), with Sports games exhibiting greater variability. This indicates that tailored marketing and development strategies are needed to address the distinct consumer experiences in these genres.\n",
    "\n",
    "Overall, these insights offer a solid foundation for planning targeted advertising campaigns, refining product development, and aligning marketing strategies with regional and platform-specific consumer behaviors. The data-driven conclusions support informed decision-making that can enhance market positioning and drive future growth in the competitive video game industry."
   ]
  }
 ],
 "metadata": {
  "ExecuteTimeLog": [
   {
    "duration": 2172,
    "start_time": "2025-02-04T11:56:27.166Z"
   },
   {
    "duration": 45,
    "start_time": "2025-02-04T11:57:42.458Z"
   },
   {
    "duration": 92,
    "start_time": "2025-02-04T11:58:17.760Z"
   },
   {
    "duration": 10,
    "start_time": "2025-02-04T11:59:51.314Z"
   },
   {
    "duration": 15,
    "start_time": "2025-02-04T12:00:05.365Z"
   },
   {
    "duration": 18,
    "start_time": "2025-02-04T12:00:11.589Z"
   },
   {
    "duration": 11,
    "start_time": "2025-02-04T12:00:35.262Z"
   },
   {
    "duration": 12,
    "start_time": "2025-02-04T12:01:21.738Z"
   },
   {
    "duration": 408,
    "start_time": "2025-02-04T12:01:29.899Z"
   },
   {
    "duration": 63,
    "start_time": "2025-02-04T12:01:30.309Z"
   },
   {
    "duration": 13,
    "start_time": "2025-02-04T12:01:30.374Z"
   },
   {
    "duration": 12,
    "start_time": "2025-02-04T12:07:02.735Z"
   },
   {
    "duration": 24,
    "start_time": "2025-02-04T12:12:45.944Z"
   },
   {
    "duration": 12,
    "start_time": "2025-02-04T12:13:12.114Z"
   },
   {
    "duration": 14,
    "start_time": "2025-02-04T12:20:09.281Z"
   },
   {
    "duration": 14,
    "start_time": "2025-02-04T12:20:40.700Z"
   },
   {
    "duration": 13,
    "start_time": "2025-02-04T12:20:56.084Z"
   },
   {
    "duration": 5,
    "start_time": "2025-02-04T12:28:46.624Z"
   },
   {
    "duration": 5,
    "start_time": "2025-02-04T12:30:03.015Z"
   },
   {
    "duration": 534,
    "start_time": "2025-02-04T12:30:08.439Z"
   },
   {
    "duration": 233,
    "start_time": "2025-02-04T12:30:54.483Z"
   },
   {
    "duration": 232,
    "start_time": "2025-02-04T12:32:29.799Z"
   },
   {
    "duration": 244,
    "start_time": "2025-02-04T12:32:58.068Z"
   },
   {
    "duration": 266,
    "start_time": "2025-02-04T12:33:36.528Z"
   },
   {
    "duration": 192,
    "start_time": "2025-02-04T12:35:58.752Z"
   },
   {
    "duration": 226,
    "start_time": "2025-02-04T12:36:29.484Z"
   },
   {
    "duration": 8,
    "start_time": "2025-02-04T13:06:11.117Z"
   },
   {
    "duration": 9,
    "start_time": "2025-02-04T13:06:34.918Z"
   },
   {
    "duration": 12,
    "start_time": "2025-02-04T13:07:16.186Z"
   },
   {
    "duration": 8,
    "start_time": "2025-02-04T13:07:24.053Z"
   },
   {
    "duration": 198,
    "start_time": "2025-02-04T13:08:45.747Z"
   },
   {
    "duration": 196,
    "start_time": "2025-02-04T13:08:52.712Z"
   },
   {
    "duration": 5,
    "start_time": "2025-02-04T13:14:52.195Z"
   },
   {
    "duration": 15,
    "start_time": "2025-02-04T13:16:43.020Z"
   },
   {
    "duration": 151,
    "start_time": "2025-02-04T13:18:24.596Z"
   },
   {
    "duration": 160,
    "start_time": "2025-02-04T13:20:06.982Z"
   },
   {
    "duration": 150,
    "start_time": "2025-02-04T13:20:18.785Z"
   },
   {
    "duration": 408,
    "start_time": "2025-02-04T13:20:32.566Z"
   },
   {
    "duration": 7,
    "start_time": "2025-02-04T13:22:12.859Z"
   },
   {
    "duration": 5,
    "start_time": "2025-02-04T13:23:16.301Z"
   },
   {
    "duration": 5,
    "start_time": "2025-02-04T13:23:36.905Z"
   },
   {
    "duration": 6,
    "start_time": "2025-02-04T13:24:13.235Z"
   },
   {
    "duration": 5,
    "start_time": "2025-02-04T13:24:19.542Z"
   },
   {
    "duration": 10,
    "start_time": "2025-02-04T13:25:31.662Z"
   },
   {
    "duration": 11,
    "start_time": "2025-02-04T13:25:51.053Z"
   },
   {
    "duration": 7,
    "start_time": "2025-02-04T13:26:12.713Z"
   },
   {
    "duration": 7,
    "start_time": "2025-02-04T13:26:36.849Z"
   },
   {
    "duration": 723,
    "start_time": "2025-02-04T13:40:12.382Z"
   },
   {
    "duration": 266,
    "start_time": "2025-02-04T13:40:21.589Z"
   },
   {
    "duration": 471,
    "start_time": "2025-02-04T13:40:42.678Z"
   },
   {
    "duration": 240,
    "start_time": "2025-02-04T13:40:52.243Z"
   },
   {
    "duration": 152,
    "start_time": "2025-02-04T13:41:08.526Z"
   },
   {
    "duration": 444,
    "start_time": "2025-02-04T13:41:17.450Z"
   },
   {
    "duration": 64,
    "start_time": "2025-02-04T13:41:17.896Z"
   },
   {
    "duration": 12,
    "start_time": "2025-02-04T13:41:17.962Z"
   },
   {
    "duration": 11,
    "start_time": "2025-02-04T13:41:17.975Z"
   },
   {
    "duration": 18,
    "start_time": "2025-02-04T13:41:17.989Z"
   },
   {
    "duration": 36,
    "start_time": "2025-02-04T13:41:18.008Z"
   },
   {
    "duration": 14,
    "start_time": "2025-02-04T13:41:18.045Z"
   },
   {
    "duration": 5,
    "start_time": "2025-02-04T13:41:18.061Z"
   },
   {
    "duration": 253,
    "start_time": "2025-02-04T13:41:18.067Z"
   },
   {
    "duration": 12,
    "start_time": "2025-02-04T13:41:18.322Z"
   },
   {
    "duration": 6,
    "start_time": "2025-02-04T13:41:18.343Z"
   },
   {
    "duration": 210,
    "start_time": "2025-02-04T13:41:18.351Z"
   },
   {
    "duration": 4,
    "start_time": "2025-02-04T13:41:18.563Z"
   },
   {
    "duration": 15,
    "start_time": "2025-02-04T13:41:18.571Z"
   },
   {
    "duration": 179,
    "start_time": "2025-02-04T13:41:18.588Z"
   },
   {
    "duration": 6,
    "start_time": "2025-02-04T13:41:18.768Z"
   },
   {
    "duration": 5,
    "start_time": "2025-02-04T13:41:18.775Z"
   },
   {
    "duration": 9,
    "start_time": "2025-02-04T13:41:18.781Z"
   },
   {
    "duration": 7,
    "start_time": "2025-02-04T13:41:18.791Z"
   },
   {
    "duration": 273,
    "start_time": "2025-02-04T13:42:20.263Z"
   },
   {
    "duration": 191,
    "start_time": "2025-02-04T13:45:12.700Z"
   },
   {
    "duration": 114,
    "start_time": "2025-02-04T13:46:12.858Z"
   },
   {
    "duration": 115,
    "start_time": "2025-02-04T13:47:53.903Z"
   },
   {
    "duration": 111,
    "start_time": "2025-02-04T13:48:13.733Z"
   },
   {
    "duration": 296,
    "start_time": "2025-02-04T13:48:32.812Z"
   },
   {
    "duration": 420,
    "start_time": "2025-02-04T13:48:53.329Z"
   },
   {
    "duration": 186,
    "start_time": "2025-02-04T13:49:19.300Z"
   },
   {
    "duration": 111,
    "start_time": "2025-02-04T13:49:43.396Z"
   },
   {
    "duration": 6,
    "start_time": "2025-02-04T13:51:19.570Z"
   },
   {
    "duration": 12,
    "start_time": "2025-02-04T13:58:36.811Z"
   },
   {
    "duration": 440,
    "start_time": "2025-02-04T14:00:48.781Z"
   },
   {
    "duration": 70,
    "start_time": "2025-02-04T14:00:49.223Z"
   },
   {
    "duration": 13,
    "start_time": "2025-02-04T14:00:49.295Z"
   },
   {
    "duration": 12,
    "start_time": "2025-02-04T14:00:49.309Z"
   },
   {
    "duration": 18,
    "start_time": "2025-02-04T14:00:49.342Z"
   },
   {
    "duration": 14,
    "start_time": "2025-02-04T14:00:49.362Z"
   },
   {
    "duration": 11,
    "start_time": "2025-02-04T14:00:49.377Z"
   },
   {
    "duration": 5,
    "start_time": "2025-02-04T14:00:49.389Z"
   },
   {
    "duration": 264,
    "start_time": "2025-02-04T14:00:49.396Z"
   },
   {
    "duration": 12,
    "start_time": "2025-02-04T14:00:49.662Z"
   },
   {
    "duration": 6,
    "start_time": "2025-02-04T14:00:49.676Z"
   },
   {
    "duration": 216,
    "start_time": "2025-02-04T14:00:49.683Z"
   },
   {
    "duration": 4,
    "start_time": "2025-02-04T14:00:49.901Z"
   },
   {
    "duration": 15,
    "start_time": "2025-02-04T14:00:49.908Z"
   },
   {
    "duration": 173,
    "start_time": "2025-02-04T14:00:49.924Z"
   },
   {
    "duration": 8,
    "start_time": "2025-02-04T14:00:50.098Z"
   },
   {
    "duration": 6,
    "start_time": "2025-02-04T14:00:50.107Z"
   },
   {
    "duration": 28,
    "start_time": "2025-02-04T14:00:50.116Z"
   },
   {
    "duration": 6,
    "start_time": "2025-02-04T14:00:50.145Z"
   },
   {
    "duration": 133,
    "start_time": "2025-02-04T14:00:50.153Z"
   },
   {
    "duration": 18,
    "start_time": "2025-02-04T14:02:37.090Z"
   },
   {
    "duration": 346,
    "start_time": "2025-02-04T14:04:08.159Z"
   },
   {
    "duration": 326,
    "start_time": "2025-02-04T14:05:34.279Z"
   },
   {
    "duration": 206,
    "start_time": "2025-02-04T14:06:11.727Z"
   },
   {
    "duration": 4,
    "start_time": "2025-02-04T14:09:43.137Z"
   },
   {
    "duration": 4,
    "start_time": "2025-02-04T14:10:01.539Z"
   },
   {
    "duration": 7,
    "start_time": "2025-02-04T14:16:32.107Z"
   },
   {
    "duration": 7,
    "start_time": "2025-02-04T14:16:39.788Z"
   },
   {
    "duration": 135,
    "start_time": "2025-02-04T14:17:59.487Z"
   },
   {
    "duration": 6,
    "start_time": "2025-02-04T14:20:59.496Z"
   },
   {
    "duration": 8,
    "start_time": "2025-02-04T14:21:13.327Z"
   },
   {
    "duration": 7,
    "start_time": "2025-02-04T14:21:29.519Z"
   },
   {
    "duration": 8,
    "start_time": "2025-02-04T14:22:16.771Z"
   },
   {
    "duration": 7,
    "start_time": "2025-02-04T14:25:39.176Z"
   },
   {
    "duration": 8,
    "start_time": "2025-02-04T14:26:21.492Z"
   },
   {
    "duration": 7,
    "start_time": "2025-02-04T14:29:28.088Z"
   },
   {
    "duration": 7,
    "start_time": "2025-02-04T14:30:05.442Z"
   },
   {
    "duration": 11,
    "start_time": "2025-02-04T14:38:31.172Z"
   },
   {
    "duration": 160,
    "start_time": "2025-02-04T14:39:15.139Z"
   },
   {
    "duration": 150,
    "start_time": "2025-02-04T14:40:14.602Z"
   },
   {
    "duration": 760,
    "start_time": "2025-02-04T14:43:32.902Z"
   },
   {
    "duration": 32,
    "start_time": "2025-02-04T14:43:33.664Z"
   },
   {
    "duration": 11,
    "start_time": "2025-02-04T14:43:33.697Z"
   },
   {
    "duration": 11,
    "start_time": "2025-02-04T14:43:33.711Z"
   },
   {
    "duration": 36,
    "start_time": "2025-02-04T14:43:33.723Z"
   },
   {
    "duration": 14,
    "start_time": "2025-02-04T14:43:33.761Z"
   },
   {
    "duration": 13,
    "start_time": "2025-02-04T14:43:33.777Z"
   },
   {
    "duration": 5,
    "start_time": "2025-02-04T14:43:33.791Z"
   },
   {
    "duration": 273,
    "start_time": "2025-02-04T14:43:33.798Z"
   },
   {
    "duration": 11,
    "start_time": "2025-02-04T14:43:34.074Z"
   },
   {
    "duration": 7,
    "start_time": "2025-02-04T14:43:34.087Z"
   },
   {
    "duration": 222,
    "start_time": "2025-02-04T14:43:34.096Z"
   },
   {
    "duration": 5,
    "start_time": "2025-02-04T14:43:34.320Z"
   },
   {
    "duration": 28,
    "start_time": "2025-02-04T14:43:34.326Z"
   },
   {
    "duration": 212,
    "start_time": "2025-02-04T14:43:34.355Z"
   },
   {
    "duration": 7,
    "start_time": "2025-02-04T14:43:34.569Z"
   },
   {
    "duration": 5,
    "start_time": "2025-02-04T14:43:34.578Z"
   },
   {
    "duration": 8,
    "start_time": "2025-02-04T14:43:34.585Z"
   },
   {
    "duration": 7,
    "start_time": "2025-02-04T14:43:34.595Z"
   },
   {
    "duration": 139,
    "start_time": "2025-02-04T14:43:34.603Z"
   },
   {
    "duration": 17,
    "start_time": "2025-02-04T14:43:34.744Z"
   },
   {
    "duration": 228,
    "start_time": "2025-02-04T14:43:34.763Z"
   },
   {
    "duration": 5,
    "start_time": "2025-02-04T14:43:34.993Z"
   },
   {
    "duration": 7,
    "start_time": "2025-02-04T14:43:35.000Z"
   },
   {
    "duration": 158,
    "start_time": "2025-02-04T14:43:35.008Z"
   },
   {
    "duration": 10,
    "start_time": "2025-02-04T14:43:35.168Z"
   },
   {
    "duration": 10,
    "start_time": "2025-02-04T14:43:35.182Z"
   },
   {
    "duration": 6,
    "start_time": "2025-02-04T14:43:35.196Z"
   },
   {
    "duration": 6,
    "start_time": "2025-02-04T14:43:35.204Z"
   },
   {
    "duration": 32,
    "start_time": "2025-02-04T14:43:35.212Z"
   },
   {
    "duration": 6,
    "start_time": "2025-02-04T14:43:35.246Z"
   },
   {
    "duration": 10,
    "start_time": "2025-02-04T14:43:35.253Z"
   },
   {
    "duration": 171,
    "start_time": "2025-02-04T14:43:35.265Z"
   },
   {
    "duration": 7,
    "start_time": "2025-02-04T14:47:07.613Z"
   },
   {
    "duration": 9,
    "start_time": "2025-02-04T14:47:14.016Z"
   },
   {
    "duration": 7,
    "start_time": "2025-02-04T14:49:22.853Z"
   },
   {
    "duration": 4,
    "start_time": "2025-02-04T14:50:48.409Z"
   },
   {
    "duration": 302,
    "start_time": "2025-02-04T14:50:55.348Z"
   },
   {
    "duration": 748,
    "start_time": "2025-02-04T14:51:03.432Z"
   },
   {
    "duration": 31,
    "start_time": "2025-02-04T14:51:04.183Z"
   },
   {
    "duration": 13,
    "start_time": "2025-02-04T14:51:04.216Z"
   },
   {
    "duration": 20,
    "start_time": "2025-02-04T14:51:04.231Z"
   },
   {
    "duration": 19,
    "start_time": "2025-02-04T14:51:04.254Z"
   },
   {
    "duration": 12,
    "start_time": "2025-02-04T14:51:04.275Z"
   },
   {
    "duration": 11,
    "start_time": "2025-02-04T14:51:04.289Z"
   },
   {
    "duration": 5,
    "start_time": "2025-02-04T14:51:04.302Z"
   },
   {
    "duration": 287,
    "start_time": "2025-02-04T14:51:04.308Z"
   },
   {
    "duration": 12,
    "start_time": "2025-02-04T14:51:04.597Z"
   },
   {
    "duration": 7,
    "start_time": "2025-02-04T14:51:04.611Z"
   },
   {
    "duration": 224,
    "start_time": "2025-02-04T14:51:04.620Z"
   },
   {
    "duration": 5,
    "start_time": "2025-02-04T14:51:04.845Z"
   },
   {
    "duration": 15,
    "start_time": "2025-02-04T14:51:04.854Z"
   },
   {
    "duration": 231,
    "start_time": "2025-02-04T14:51:04.870Z"
   },
   {
    "duration": 6,
    "start_time": "2025-02-04T14:51:05.103Z"
   },
   {
    "duration": 4,
    "start_time": "2025-02-04T14:51:05.111Z"
   },
   {
    "duration": 31,
    "start_time": "2025-02-04T14:51:05.117Z"
   },
   {
    "duration": 6,
    "start_time": "2025-02-04T14:51:05.149Z"
   },
   {
    "duration": 127,
    "start_time": "2025-02-04T14:51:05.157Z"
   },
   {
    "duration": 18,
    "start_time": "2025-02-04T14:51:05.286Z"
   },
   {
    "duration": 226,
    "start_time": "2025-02-04T14:51:05.306Z"
   },
   {
    "duration": 11,
    "start_time": "2025-02-04T14:51:05.533Z"
   },
   {
    "duration": 6,
    "start_time": "2025-02-04T14:51:05.547Z"
   },
   {
    "duration": 153,
    "start_time": "2025-02-04T14:51:05.555Z"
   },
   {
    "duration": 7,
    "start_time": "2025-02-04T14:51:05.710Z"
   },
   {
    "duration": 25,
    "start_time": "2025-02-04T14:51:05.719Z"
   },
   {
    "duration": 5,
    "start_time": "2025-02-04T14:51:05.746Z"
   },
   {
    "duration": 6,
    "start_time": "2025-02-04T14:51:05.753Z"
   },
   {
    "duration": 6,
    "start_time": "2025-02-04T14:51:05.760Z"
   },
   {
    "duration": 6,
    "start_time": "2025-02-04T14:51:05.768Z"
   },
   {
    "duration": 10,
    "start_time": "2025-02-04T14:51:05.776Z"
   },
   {
    "duration": 183,
    "start_time": "2025-02-04T14:51:05.787Z"
   },
   {
    "duration": 7,
    "start_time": "2025-02-04T14:51:05.971Z"
   },
   {
    "duration": 232,
    "start_time": "2025-02-04T14:51:05.979Z"
   },
   {
    "duration": 810,
    "start_time": "2025-02-04T14:51:25.643Z"
   },
   {
    "duration": 32,
    "start_time": "2025-02-04T14:51:26.456Z"
   },
   {
    "duration": 12,
    "start_time": "2025-02-04T14:51:26.490Z"
   },
   {
    "duration": 12,
    "start_time": "2025-02-04T14:51:26.504Z"
   },
   {
    "duration": 41,
    "start_time": "2025-02-04T14:51:26.518Z"
   },
   {
    "duration": 14,
    "start_time": "2025-02-04T14:51:26.560Z"
   },
   {
    "duration": 12,
    "start_time": "2025-02-04T14:51:26.576Z"
   },
   {
    "duration": 6,
    "start_time": "2025-02-04T14:51:26.590Z"
   },
   {
    "duration": 265,
    "start_time": "2025-02-04T14:51:26.597Z"
   },
   {
    "duration": 12,
    "start_time": "2025-02-04T14:51:26.864Z"
   },
   {
    "duration": 7,
    "start_time": "2025-02-04T14:51:26.878Z"
   },
   {
    "duration": 214,
    "start_time": "2025-02-04T14:51:26.887Z"
   },
   {
    "duration": 4,
    "start_time": "2025-02-04T14:51:27.103Z"
   },
   {
    "duration": 15,
    "start_time": "2025-02-04T14:51:27.111Z"
   },
   {
    "duration": 202,
    "start_time": "2025-02-04T14:51:27.143Z"
   },
   {
    "duration": 6,
    "start_time": "2025-02-04T14:51:27.347Z"
   },
   {
    "duration": 5,
    "start_time": "2025-02-04T14:51:27.355Z"
   },
   {
    "duration": 9,
    "start_time": "2025-02-04T14:51:27.362Z"
   },
   {
    "duration": 6,
    "start_time": "2025-02-04T14:51:27.372Z"
   },
   {
    "duration": 142,
    "start_time": "2025-02-04T14:51:27.380Z"
   },
   {
    "duration": 31,
    "start_time": "2025-02-04T14:51:27.524Z"
   },
   {
    "duration": 217,
    "start_time": "2025-02-04T14:51:27.556Z"
   },
   {
    "duration": 5,
    "start_time": "2025-02-04T14:51:27.775Z"
   },
   {
    "duration": 8,
    "start_time": "2025-02-04T14:51:27.781Z"
   },
   {
    "duration": 164,
    "start_time": "2025-02-04T14:51:27.790Z"
   },
   {
    "duration": 7,
    "start_time": "2025-02-04T14:51:27.955Z"
   },
   {
    "duration": 6,
    "start_time": "2025-02-04T14:51:27.964Z"
   },
   {
    "duration": 6,
    "start_time": "2025-02-04T14:51:27.972Z"
   },
   {
    "duration": 5,
    "start_time": "2025-02-04T14:51:27.980Z"
   },
   {
    "duration": 5,
    "start_time": "2025-02-04T14:51:27.987Z"
   },
   {
    "duration": 5,
    "start_time": "2025-02-04T14:51:27.994Z"
   },
   {
    "duration": 48,
    "start_time": "2025-02-04T14:51:28.001Z"
   },
   {
    "duration": 170,
    "start_time": "2025-02-04T14:51:28.051Z"
   },
   {
    "duration": 6,
    "start_time": "2025-02-04T14:51:28.223Z"
   },
   {
    "duration": 12,
    "start_time": "2025-02-04T14:51:28.231Z"
   },
   {
    "duration": 5,
    "start_time": "2025-02-04T14:52:19.290Z"
   },
   {
    "duration": 8,
    "start_time": "2025-02-04T14:57:09.227Z"
   },
   {
    "duration": 4,
    "start_time": "2025-02-04T14:58:01.862Z"
   },
   {
    "duration": 216,
    "start_time": "2025-02-04T14:59:51.461Z"
   },
   {
    "duration": 7,
    "start_time": "2025-02-04T15:00:03.513Z"
   },
   {
    "duration": 5,
    "start_time": "2025-02-04T15:00:36.432Z"
   },
   {
    "duration": 8,
    "start_time": "2025-02-04T15:02:40.954Z"
   },
   {
    "duration": 7,
    "start_time": "2025-02-04T15:03:10.845Z"
   },
   {
    "duration": 125,
    "start_time": "2025-02-04T15:17:43.137Z"
   },
   {
    "duration": 600,
    "start_time": "2025-02-04T15:18:06.562Z"
   },
   {
    "duration": 233,
    "start_time": "2025-02-04T15:18:56.688Z"
   },
   {
    "duration": 101,
    "start_time": "2025-02-04T15:19:32.392Z"
   },
   {
    "duration": 2505,
    "start_time": "2025-02-04T18:28:56.788Z"
   },
   {
    "duration": 43,
    "start_time": "2025-02-04T18:28:59.295Z"
   },
   {
    "duration": 12,
    "start_time": "2025-02-04T18:28:59.340Z"
   },
   {
    "duration": 11,
    "start_time": "2025-02-04T18:28:59.354Z"
   },
   {
    "duration": 19,
    "start_time": "2025-02-04T18:28:59.367Z"
   },
   {
    "duration": 33,
    "start_time": "2025-02-04T18:28:59.387Z"
   },
   {
    "duration": 13,
    "start_time": "2025-02-04T18:28:59.422Z"
   },
   {
    "duration": 5,
    "start_time": "2025-02-04T18:28:59.437Z"
   },
   {
    "duration": 284,
    "start_time": "2025-02-04T18:28:59.444Z"
   },
   {
    "duration": 12,
    "start_time": "2025-02-04T18:28:59.731Z"
   },
   {
    "duration": 7,
    "start_time": "2025-02-04T18:28:59.745Z"
   },
   {
    "duration": 221,
    "start_time": "2025-02-04T18:28:59.754Z"
   },
   {
    "duration": 5,
    "start_time": "2025-02-04T18:28:59.977Z"
   },
   {
    "duration": 31,
    "start_time": "2025-02-04T18:28:59.984Z"
   },
   {
    "duration": 181,
    "start_time": "2025-02-04T18:29:00.016Z"
   },
   {
    "duration": 7,
    "start_time": "2025-02-04T18:29:00.199Z"
   },
   {
    "duration": 5,
    "start_time": "2025-02-04T18:29:00.207Z"
   },
   {
    "duration": 10,
    "start_time": "2025-02-04T18:29:00.213Z"
   },
   {
    "duration": 7,
    "start_time": "2025-02-04T18:29:00.225Z"
   },
   {
    "duration": 141,
    "start_time": "2025-02-04T18:29:00.233Z"
   },
   {
    "duration": 16,
    "start_time": "2025-02-04T18:29:00.376Z"
   },
   {
    "duration": 130,
    "start_time": "2025-02-04T18:29:00.396Z"
   },
   {
    "duration": 170,
    "start_time": "2025-02-04T18:29:00.527Z"
   },
   {
    "duration": 11,
    "start_time": "2025-02-04T18:29:00.699Z"
   },
   {
    "duration": 7,
    "start_time": "2025-02-04T18:29:00.711Z"
   },
   {
    "duration": 151,
    "start_time": "2025-02-04T18:29:00.720Z"
   },
   {
    "duration": 7,
    "start_time": "2025-02-04T18:29:00.873Z"
   },
   {
    "duration": 6,
    "start_time": "2025-02-04T18:29:00.883Z"
   },
   {
    "duration": 22,
    "start_time": "2025-02-04T18:29:00.890Z"
   },
   {
    "duration": 6,
    "start_time": "2025-02-04T18:29:00.913Z"
   },
   {
    "duration": 6,
    "start_time": "2025-02-04T18:29:00.920Z"
   },
   {
    "duration": 6,
    "start_time": "2025-02-04T18:29:00.928Z"
   },
   {
    "duration": 10,
    "start_time": "2025-02-04T18:29:00.936Z"
   },
   {
    "duration": 182,
    "start_time": "2025-02-04T18:29:00.947Z"
   },
   {
    "duration": 8,
    "start_time": "2025-02-04T18:29:01.131Z"
   },
   {
    "duration": 4,
    "start_time": "2025-02-04T18:29:01.141Z"
   },
   {
    "duration": 7,
    "start_time": "2025-02-04T18:29:01.147Z"
   },
   {
    "duration": 3,
    "start_time": "2025-02-04T18:29:01.156Z"
   },
   {
    "duration": 174,
    "start_time": "2025-02-05T01:47:07.199Z"
   },
   {
    "duration": 2539,
    "start_time": "2025-02-05T01:47:21.336Z"
   },
   {
    "duration": 43,
    "start_time": "2025-02-05T01:47:23.878Z"
   },
   {
    "duration": 13,
    "start_time": "2025-02-05T01:47:23.923Z"
   },
   {
    "duration": 11,
    "start_time": "2025-02-05T01:47:23.938Z"
   },
   {
    "duration": 19,
    "start_time": "2025-02-05T01:47:23.951Z"
   },
   {
    "duration": 554,
    "start_time": "2025-02-05T01:47:23.971Z"
   },
   {
    "duration": 0,
    "start_time": "2025-02-05T01:47:24.528Z"
   },
   {
    "duration": 0,
    "start_time": "2025-02-05T01:47:24.529Z"
   },
   {
    "duration": 0,
    "start_time": "2025-02-05T01:47:24.530Z"
   },
   {
    "duration": 0,
    "start_time": "2025-02-05T01:47:24.531Z"
   },
   {
    "duration": 0,
    "start_time": "2025-02-05T01:47:24.533Z"
   },
   {
    "duration": 0,
    "start_time": "2025-02-05T01:47:24.534Z"
   },
   {
    "duration": 0,
    "start_time": "2025-02-05T01:47:24.536Z"
   },
   {
    "duration": 0,
    "start_time": "2025-02-05T01:47:24.537Z"
   },
   {
    "duration": 0,
    "start_time": "2025-02-05T01:47:24.538Z"
   },
   {
    "duration": 0,
    "start_time": "2025-02-05T01:47:24.539Z"
   },
   {
    "duration": 0,
    "start_time": "2025-02-05T01:47:24.542Z"
   },
   {
    "duration": 0,
    "start_time": "2025-02-05T01:47:24.543Z"
   },
   {
    "duration": 0,
    "start_time": "2025-02-05T01:47:24.544Z"
   },
   {
    "duration": 0,
    "start_time": "2025-02-05T01:47:24.545Z"
   },
   {
    "duration": 0,
    "start_time": "2025-02-05T01:47:24.546Z"
   },
   {
    "duration": 0,
    "start_time": "2025-02-05T01:47:24.546Z"
   },
   {
    "duration": 0,
    "start_time": "2025-02-05T01:47:24.548Z"
   },
   {
    "duration": 0,
    "start_time": "2025-02-05T01:47:24.549Z"
   },
   {
    "duration": 0,
    "start_time": "2025-02-05T01:47:24.587Z"
   },
   {
    "duration": 0,
    "start_time": "2025-02-05T01:47:24.590Z"
   },
   {
    "duration": 0,
    "start_time": "2025-02-05T01:47:24.591Z"
   },
   {
    "duration": 0,
    "start_time": "2025-02-05T01:47:24.592Z"
   },
   {
    "duration": 0,
    "start_time": "2025-02-05T01:47:24.593Z"
   },
   {
    "duration": 0,
    "start_time": "2025-02-05T01:47:24.595Z"
   },
   {
    "duration": 0,
    "start_time": "2025-02-05T01:47:24.595Z"
   },
   {
    "duration": 0,
    "start_time": "2025-02-05T01:47:24.596Z"
   },
   {
    "duration": 0,
    "start_time": "2025-02-05T01:47:24.598Z"
   },
   {
    "duration": 0,
    "start_time": "2025-02-05T01:47:24.599Z"
   },
   {
    "duration": 0,
    "start_time": "2025-02-05T01:47:24.600Z"
   },
   {
    "duration": 0,
    "start_time": "2025-02-05T01:47:24.601Z"
   },
   {
    "duration": 0,
    "start_time": "2025-02-05T01:47:24.602Z"
   },
   {
    "duration": 0,
    "start_time": "2025-02-05T01:47:24.604Z"
   },
   {
    "duration": 13,
    "start_time": "2025-02-05T01:48:43.433Z"
   },
   {
    "duration": 11,
    "start_time": "2025-02-05T01:49:34.880Z"
   },
   {
    "duration": 4,
    "start_time": "2025-02-05T01:50:11.551Z"
   },
   {
    "duration": 6,
    "start_time": "2025-02-05T01:50:14.606Z"
   },
   {
    "duration": 6,
    "start_time": "2025-02-05T01:51:42.906Z"
   },
   {
    "duration": 804,
    "start_time": "2025-02-05T01:52:50.926Z"
   },
   {
    "duration": 34,
    "start_time": "2025-02-05T01:52:51.733Z"
   },
   {
    "duration": 23,
    "start_time": "2025-02-05T01:52:51.768Z"
   },
   {
    "duration": 11,
    "start_time": "2025-02-05T01:52:51.793Z"
   },
   {
    "duration": 19,
    "start_time": "2025-02-05T01:52:51.806Z"
   },
   {
    "duration": 10,
    "start_time": "2025-02-05T01:52:51.826Z"
   },
   {
    "duration": 12,
    "start_time": "2025-02-05T01:52:51.838Z"
   },
   {
    "duration": 36,
    "start_time": "2025-02-05T01:52:51.851Z"
   },
   {
    "duration": 243,
    "start_time": "2025-02-05T01:52:51.889Z"
   },
   {
    "duration": 11,
    "start_time": "2025-02-05T01:52:52.136Z"
   },
   {
    "duration": 6,
    "start_time": "2025-02-05T01:52:52.148Z"
   },
   {
    "duration": 217,
    "start_time": "2025-02-05T01:52:52.156Z"
   },
   {
    "duration": 4,
    "start_time": "2025-02-05T01:52:52.375Z"
   },
   {
    "duration": 14,
    "start_time": "2025-02-05T01:52:52.387Z"
   },
   {
    "duration": 229,
    "start_time": "2025-02-05T01:52:52.402Z"
   },
   {
    "duration": 6,
    "start_time": "2025-02-05T01:52:52.634Z"
   },
   {
    "duration": 4,
    "start_time": "2025-02-05T01:52:52.642Z"
   },
   {
    "duration": 13,
    "start_time": "2025-02-05T01:52:52.648Z"
   },
   {
    "duration": 8,
    "start_time": "2025-02-05T01:52:52.663Z"
   },
   {
    "duration": 127,
    "start_time": "2025-02-05T01:52:52.672Z"
   },
   {
    "duration": 17,
    "start_time": "2025-02-05T01:52:52.802Z"
   },
   {
    "duration": 126,
    "start_time": "2025-02-05T01:52:52.822Z"
   },
   {
    "duration": 111,
    "start_time": "2025-02-05T01:52:52.950Z"
   },
   {
    "duration": 4,
    "start_time": "2025-02-05T01:52:53.063Z"
   },
   {
    "duration": 19,
    "start_time": "2025-02-05T01:52:53.069Z"
   },
   {
    "duration": 176,
    "start_time": "2025-02-05T01:52:53.089Z"
   },
   {
    "duration": 7,
    "start_time": "2025-02-05T01:52:53.267Z"
   },
   {
    "duration": 15,
    "start_time": "2025-02-05T01:52:53.277Z"
   },
   {
    "duration": 7,
    "start_time": "2025-02-05T01:52:53.294Z"
   },
   {
    "duration": 6,
    "start_time": "2025-02-05T01:52:53.303Z"
   },
   {
    "duration": 8,
    "start_time": "2025-02-05T01:52:53.311Z"
   },
   {
    "duration": 6,
    "start_time": "2025-02-05T01:52:53.321Z"
   },
   {
    "duration": 11,
    "start_time": "2025-02-05T01:52:53.328Z"
   },
   {
    "duration": 207,
    "start_time": "2025-02-05T01:52:53.341Z"
   },
   {
    "duration": 8,
    "start_time": "2025-02-05T01:52:53.550Z"
   },
   {
    "duration": 4,
    "start_time": "2025-02-05T01:52:53.560Z"
   },
   {
    "duration": 25,
    "start_time": "2025-02-05T01:52:53.565Z"
   },
   {
    "duration": 4,
    "start_time": "2025-02-05T01:52:53.592Z"
   },
   {
    "duration": 6,
    "start_time": "2025-02-05T01:54:34.733Z"
   },
   {
    "duration": 278,
    "start_time": "2025-02-05T01:59:55.661Z"
   },
   {
    "duration": 169,
    "start_time": "2025-02-05T02:00:57.555Z"
   },
   {
    "duration": 8,
    "start_time": "2025-02-05T02:02:34.871Z"
   },
   {
    "duration": 5,
    "start_time": "2025-02-05T02:02:47.064Z"
   },
   {
    "duration": 11,
    "start_time": "2025-02-05T02:09:56.055Z"
   },
   {
    "duration": 247,
    "start_time": "2025-02-05T02:09:58.517Z"
   },
   {
    "duration": 7,
    "start_time": "2025-02-05T02:11:09.379Z"
   },
   {
    "duration": 214,
    "start_time": "2025-02-05T02:11:29.164Z"
   },
   {
    "duration": 5,
    "start_time": "2025-02-05T02:11:35.386Z"
   },
   {
    "duration": 102,
    "start_time": "2025-02-05T02:13:17.834Z"
   },
   {
    "duration": 9,
    "start_time": "2025-02-05T02:15:47.983Z"
   },
   {
    "duration": 176,
    "start_time": "2025-02-05T02:16:16.352Z"
   },
   {
    "duration": 10,
    "start_time": "2025-02-05T02:16:44.659Z"
   },
   {
    "duration": 174,
    "start_time": "2025-02-05T02:16:47.184Z"
   },
   {
    "duration": 8,
    "start_time": "2025-02-05T02:16:59.075Z"
   },
   {
    "duration": 265,
    "start_time": "2025-02-05T02:17:05.027Z"
   },
   {
    "duration": 10,
    "start_time": "2025-02-05T02:17:17.770Z"
   },
   {
    "duration": 166,
    "start_time": "2025-02-05T02:17:21.106Z"
   },
   {
    "duration": 7,
    "start_time": "2025-02-05T02:18:14.798Z"
   },
   {
    "duration": 286,
    "start_time": "2025-02-05T02:21:39.276Z"
   },
   {
    "duration": 273,
    "start_time": "2025-02-05T02:21:46.272Z"
   },
   {
    "duration": 279,
    "start_time": "2025-02-05T02:24:01.234Z"
   },
   {
    "duration": 158,
    "start_time": "2025-02-05T02:26:29.206Z"
   },
   {
    "duration": 164,
    "start_time": "2025-02-05T02:27:06.142Z"
   },
   {
    "duration": 20,
    "start_time": "2025-02-05T02:30:41.814Z"
   },
   {
    "duration": 152,
    "start_time": "2025-02-05T02:31:10.470Z"
   },
   {
    "duration": 8,
    "start_time": "2025-02-05T02:35:38.755Z"
   },
   {
    "duration": 4,
    "start_time": "2025-02-05T02:36:14.668Z"
   },
   {
    "duration": 4,
    "start_time": "2025-02-05T02:37:09.322Z"
   },
   {
    "duration": 11,
    "start_time": "2025-02-05T02:39:08.263Z"
   },
   {
    "duration": 4,
    "start_time": "2025-02-05T02:39:10.498Z"
   },
   {
    "duration": 5,
    "start_time": "2025-02-05T02:39:17.628Z"
   },
   {
    "duration": 10,
    "start_time": "2025-02-05T02:40:26.885Z"
   },
   {
    "duration": 5,
    "start_time": "2025-02-05T02:40:29.091Z"
   },
   {
    "duration": 9,
    "start_time": "2025-02-05T02:43:39.389Z"
   },
   {
    "duration": 3,
    "start_time": "2025-02-05T02:43:42.083Z"
   },
   {
    "duration": 770,
    "start_time": "2025-02-05T02:47:05.651Z"
   },
   {
    "duration": 33,
    "start_time": "2025-02-05T02:47:06.423Z"
   },
   {
    "duration": 12,
    "start_time": "2025-02-05T02:47:06.458Z"
   },
   {
    "duration": 24,
    "start_time": "2025-02-05T02:47:06.471Z"
   },
   {
    "duration": 18,
    "start_time": "2025-02-05T02:47:06.498Z"
   },
   {
    "duration": 10,
    "start_time": "2025-02-05T02:47:06.518Z"
   },
   {
    "duration": 11,
    "start_time": "2025-02-05T02:47:06.530Z"
   },
   {
    "duration": 5,
    "start_time": "2025-02-05T02:47:06.542Z"
   },
   {
    "duration": 278,
    "start_time": "2025-02-05T02:47:06.549Z"
   },
   {
    "duration": 12,
    "start_time": "2025-02-05T02:47:06.829Z"
   },
   {
    "duration": 8,
    "start_time": "2025-02-05T02:47:06.842Z"
   },
   {
    "duration": 217,
    "start_time": "2025-02-05T02:47:06.852Z"
   },
   {
    "duration": 15,
    "start_time": "2025-02-05T02:47:07.071Z"
   },
   {
    "duration": 61,
    "start_time": "2025-02-05T02:47:07.090Z"
   },
   {
    "duration": 178,
    "start_time": "2025-02-05T02:47:07.153Z"
   },
   {
    "duration": 6,
    "start_time": "2025-02-05T02:47:07.333Z"
   },
   {
    "duration": 4,
    "start_time": "2025-02-05T02:47:07.341Z"
   },
   {
    "duration": 9,
    "start_time": "2025-02-05T02:47:07.346Z"
   },
   {
    "duration": 6,
    "start_time": "2025-02-05T02:47:07.356Z"
   },
   {
    "duration": 22,
    "start_time": "2025-02-05T02:47:07.364Z"
   },
   {
    "duration": 172,
    "start_time": "2025-02-05T02:47:07.388Z"
   },
   {
    "duration": 27,
    "start_time": "2025-02-05T02:47:07.562Z"
   },
   {
    "duration": 116,
    "start_time": "2025-02-05T02:47:07.591Z"
   },
   {
    "duration": 107,
    "start_time": "2025-02-05T02:47:07.709Z"
   },
   {
    "duration": 4,
    "start_time": "2025-02-05T02:47:07.818Z"
   },
   {
    "duration": 9,
    "start_time": "2025-02-05T02:47:07.824Z"
   },
   {
    "duration": 5,
    "start_time": "2025-02-05T02:47:07.834Z"
   },
   {
    "duration": 215,
    "start_time": "2025-02-05T02:47:07.840Z"
   },
   {
    "duration": 8,
    "start_time": "2025-02-05T02:47:08.058Z"
   },
   {
    "duration": 6,
    "start_time": "2025-02-05T02:47:08.068Z"
   },
   {
    "duration": 6,
    "start_time": "2025-02-05T02:47:08.086Z"
   },
   {
    "duration": 177,
    "start_time": "2025-02-05T02:47:08.094Z"
   },
   {
    "duration": 15,
    "start_time": "2025-02-05T02:47:08.273Z"
   },
   {
    "duration": 5,
    "start_time": "2025-02-05T02:47:08.290Z"
   },
   {
    "duration": 5,
    "start_time": "2025-02-05T02:47:08.297Z"
   },
   {
    "duration": 160,
    "start_time": "2025-02-05T02:47:08.304Z"
   },
   {
    "duration": 11,
    "start_time": "2025-02-05T02:47:08.466Z"
   },
   {
    "duration": 155,
    "start_time": "2025-02-05T02:47:08.486Z"
   },
   {
    "duration": 8,
    "start_time": "2025-02-05T02:47:08.643Z"
   },
   {
    "duration": 5,
    "start_time": "2025-02-05T02:47:08.653Z"
   },
   {
    "duration": 26,
    "start_time": "2025-02-05T02:47:08.663Z"
   },
   {
    "duration": 4,
    "start_time": "2025-02-05T02:47:08.691Z"
   },
   {
    "duration": 754,
    "start_time": "2025-02-05T06:47:37.396Z"
   },
   {
    "duration": 41,
    "start_time": "2025-02-05T06:47:38.153Z"
   },
   {
    "duration": 14,
    "start_time": "2025-02-05T06:47:38.195Z"
   },
   {
    "duration": 12,
    "start_time": "2025-02-05T06:47:38.211Z"
   },
   {
    "duration": 23,
    "start_time": "2025-02-05T06:47:38.224Z"
   },
   {
    "duration": 14,
    "start_time": "2025-02-05T06:47:38.251Z"
   },
   {
    "duration": 15,
    "start_time": "2025-02-05T06:47:38.267Z"
   },
   {
    "duration": 28,
    "start_time": "2025-02-05T06:47:38.284Z"
   },
   {
    "duration": 244,
    "start_time": "2025-02-05T06:47:38.314Z"
   },
   {
    "duration": 13,
    "start_time": "2025-02-05T06:47:38.561Z"
   },
   {
    "duration": 6,
    "start_time": "2025-02-05T06:47:38.575Z"
   },
   {
    "duration": 227,
    "start_time": "2025-02-05T06:47:38.583Z"
   },
   {
    "duration": 4,
    "start_time": "2025-02-05T06:47:38.812Z"
   },
   {
    "duration": 14,
    "start_time": "2025-02-05T06:47:38.818Z"
   },
   {
    "duration": 229,
    "start_time": "2025-02-05T06:47:38.834Z"
   },
   {
    "duration": 5,
    "start_time": "2025-02-05T06:47:39.065Z"
   },
   {
    "duration": 5,
    "start_time": "2025-02-05T06:47:39.072Z"
   },
   {
    "duration": 9,
    "start_time": "2025-02-05T06:47:39.079Z"
   },
   {
    "duration": 26,
    "start_time": "2025-02-05T06:47:39.089Z"
   },
   {
    "duration": 8,
    "start_time": "2025-02-05T06:47:39.117Z"
   },
   {
    "duration": 183,
    "start_time": "2025-02-05T06:47:39.126Z"
   },
   {
    "duration": 20,
    "start_time": "2025-02-05T06:47:39.310Z"
   },
   {
    "duration": 125,
    "start_time": "2025-02-05T06:47:39.331Z"
   },
   {
    "duration": 104,
    "start_time": "2025-02-05T06:47:39.459Z"
   },
   {
    "duration": 6,
    "start_time": "2025-02-05T06:47:39.565Z"
   },
   {
    "duration": 9,
    "start_time": "2025-02-05T06:47:39.573Z"
   },
   {
    "duration": 4,
    "start_time": "2025-02-05T06:47:39.583Z"
   },
   {
    "duration": 185,
    "start_time": "2025-02-05T06:47:39.611Z"
   },
   {
    "duration": 14,
    "start_time": "2025-02-05T06:47:39.798Z"
   },
   {
    "duration": 6,
    "start_time": "2025-02-05T06:47:39.813Z"
   },
   {
    "duration": 5,
    "start_time": "2025-02-05T06:47:39.821Z"
   },
   {
    "duration": 181,
    "start_time": "2025-02-05T06:47:39.828Z"
   },
   {
    "duration": 6,
    "start_time": "2025-02-05T06:47:40.011Z"
   },
   {
    "duration": 5,
    "start_time": "2025-02-05T06:47:40.019Z"
   },
   {
    "duration": 5,
    "start_time": "2025-02-05T06:47:40.026Z"
   },
   {
    "duration": 165,
    "start_time": "2025-02-05T06:47:40.032Z"
   },
   {
    "duration": 14,
    "start_time": "2025-02-05T06:47:40.200Z"
   },
   {
    "duration": 171,
    "start_time": "2025-02-05T06:47:40.215Z"
   },
   {
    "duration": 12,
    "start_time": "2025-02-05T06:47:40.388Z"
   },
   {
    "duration": 4,
    "start_time": "2025-02-05T06:47:40.410Z"
   },
   {
    "duration": 9,
    "start_time": "2025-02-05T06:47:40.416Z"
   },
   {
    "duration": 4,
    "start_time": "2025-02-05T06:47:40.426Z"
   }
  ],
  "kernelspec": {
   "display_name": "Python 3 (ipykernel)",
   "language": "python",
   "name": "python3"
  },
  "language_info": {
   "codemirror_mode": {
    "name": "ipython",
    "version": 3
   },
   "file_extension": ".py",
   "mimetype": "text/x-python",
   "name": "python",
   "nbconvert_exporter": "python",
   "pygments_lexer": "ipython3",
   "version": "3.9.19"
  },
  "toc": {
   "base_numbering": 1,
   "nav_menu": {},
   "number_sections": true,
   "sideBar": true,
   "skip_h1_title": true,
   "title_cell": "Table of Contents",
   "title_sidebar": "Contents",
   "toc_cell": false,
   "toc_position": {},
   "toc_section_display": true,
   "toc_window_display": false
  }
 },
 "nbformat": 4,
 "nbformat_minor": 2
}
